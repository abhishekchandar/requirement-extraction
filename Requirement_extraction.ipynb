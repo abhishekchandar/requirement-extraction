{
  "nbformat": 4,
  "nbformat_minor": 0,
  "metadata": {
    "colab": {
      "provenance": []
    },
    "kernelspec": {
      "name": "python3",
      "display_name": "Python 3"
    },
    "language_info": {
      "name": "python"
    },
    "accelerator": "GPU"
  },
  "cells": [
    {
      "cell_type": "markdown",
      "metadata": {
        "id": "CxvDwNpmITRd"
      },
      "source": [
        "https://towardsdatascience.com/nlp-classification-with-universal-language-model-fine-tuning-ulmfit-4e1d5077372b\n",
        "\n",
        "https://towardsdatascience.com/fastai-disaster-prediction-using-ulmfit-4dd244d3889c\n",
        "\n",
        "\n",
        "https://docs.fast.ai/tutorial.text.html"
      ]
    },
    {
      "cell_type": "code",
      "metadata": {
        "id": "q51fvG3NHtVN"
      },
      "source": [
        "# !pip install fastai\n",
        "import pandas as pd\n",
        "import numpy as np\n",
        "import seaborn as sns\n",
        "import matplotlib as plt\n",
        "import itertools\n",
        "import nltk\n",
        "from nltk.corpus import stopwords\n",
        "from wordcloud import WordCloud,STOPWORDS\n",
        "from fastai.text import *\n",
        "from fastai.callbacks import *"
      ],
      "execution_count": null,
      "outputs": []
    },
    {
      "cell_type": "code",
      "metadata": {
        "colab": {
          "base_uri": "https://localhost:8080/"
        },
        "id": "teNeOZWWljjR",
        "outputId": "6bad6457-7dae-441c-d500-0e9e75d8b710"
      },
      "source": [
        "import fastai\n",
        "print(fastai.__version__)"
      ],
      "execution_count": null,
      "outputs": [
        {
          "output_type": "stream",
          "name": "stdout",
          "text": [
            "1.0.61\n"
          ]
        }
      ]
    },
    {
      "cell_type": "code",
      "metadata": {
        "id": "xmv_bDvOHzuI"
      },
      "source": [
        "train_df = pd.read_csv(\"P1-Golden.csv\")\n",
        "test_df = pd.read_csv(\"P1_test.csv\")"
      ],
      "execution_count": null,
      "outputs": []
    },
    {
      "cell_type": "code",
      "metadata": {
        "id": "Wz3zJT2mIt6D"
      },
      "source": [
        "# df.to_csv(\"P1-Golden.csv\")"
      ],
      "execution_count": null,
      "outputs": []
    },
    {
      "cell_type": "code",
      "metadata": {
        "colab": {
          "base_uri": "https://localhost:8080/"
        },
        "id": "GL4ZYi60lJEO",
        "outputId": "269e5b69-c9c1-495d-f4f8-d1618d4493e4"
      },
      "source": [
        "!pip3 install nvidia-ml-py3\n"
      ],
      "execution_count": null,
      "outputs": [
        {
          "output_type": "stream",
          "name": "stdout",
          "text": [
            "Requirement already satisfied: nvidia-ml-py3 in /usr/local/lib/python3.7/dist-packages (7.352.0)\n"
          ]
        }
      ]
    },
    {
      "cell_type": "code",
      "metadata": {
        "colab": {
          "base_uri": "https://localhost:8080/"
        },
        "id": "s7YrzCzjl_jO",
        "outputId": "658a39a4-d5fd-4edd-cadc-9380f0a5e654"
      },
      "source": [
        "from pynvml import *\n",
        "nvmlInit()\n",
        "handle = nvmlDeviceGetHandleByIndex(0)\n",
        "info = nvmlDeviceGetMemoryInfo(handle)\n",
        "print(\"Total memory:\", info.total)\n",
        "print(\"Free memory:\", info.free)\n",
        "print(\"Used memory:\", info.used)"
      ],
      "execution_count": null,
      "outputs": [
        {
          "output_type": "stream",
          "name": "stdout",
          "text": [
            "Total memory: 11996954624\n",
            "Free memory: 9710665728\n",
            "Used memory: 2286288896\n"
          ]
        }
      ]
    },
    {
      "cell_type": "code",
      "metadata": {
        "colab": {
          "base_uri": "https://localhost:8080/"
        },
        "id": "sgSMPz5jmEWW",
        "outputId": "b3b744b2-c208-40f4-f860-5b74a6755234"
      },
      "source": [
        "nvmlInit()\n",
        "try:\n",
        "    deviceCount = nvmlDeviceGetCount()\n",
        "    for i in range(deviceCount):\n",
        "        handle = nvmlDeviceGetHandleByIndex(i)\n",
        "        print(\"Device\", i, \":\", nvmlDeviceGetName(handle))\n",
        "except NVMLError as error:\n",
        "    print(error)"
      ],
      "execution_count": null,
      "outputs": [
        {
          "output_type": "stream",
          "name": "stdout",
          "text": [
            "Device 0 : b'Tesla K80'\n"
          ]
        }
      ]
    },
    {
      "cell_type": "code",
      "metadata": {
        "id": "l2XmwfUlmHHD"
      },
      "source": [],
      "execution_count": null,
      "outputs": []
    },
    {
      "cell_type": "code",
      "metadata": {
        "colab": {
          "base_uri": "https://localhost:8080/"
        },
        "id": "JDzqVALpIB-j",
        "outputId": "39e180f1-8543-4d3f-ac28-61adb841eef0"
      },
      "source": [
        "train_df.reviews.values"
      ],
      "execution_count": null,
      "outputs": [
        {
          "output_type": "execute_result",
          "data": {
            "text/plain": [
              "array([\"Well done Microsoft!! OneNote is a fantastic program, perfect for day to day stuff and college notes. In fact, everything where a word processor isn't quite the write [sic] tool. I've been waiting for an iPhone app to use OneNote remotely, and this exceeds my expectations!!If you are a OneNote user, I really can't see how you could be disappointed with this perfect companion. Great looking and does the job perfectly!(I had a problem signing in at first, but resubmitted a few times and it worked - now I have no trouble logging in)\",\n",
              "       'This works on a limited basis.  Works well for retrieval of notes and is ok with entry of notes.  Ability to handwrite notes would be great and handwriting recognition would be incredible.  I would pay for an iPad app with more functionality but this works fine for free.',\n",
              "       \"This app was great for the first month or two. Now whenever I try to open one of my notes, it says, Syncing Error. Edits saved to SkyDrive. I've been trying to access this note for FOUR DAYS now. I have tried deleting theapp, signing out, refreshing, going to Skydrive, and doing every thing I can to have my note show up! Every time I click on it, like a few lines will show up and the rest is just blanks and the note is all messed up. I am literally in TEARS because that was an IMPORTANT note and it isn't syncing. It's so ridiculous. I can't even copy the text on the note to place it somewhere else. I am so sick of this. I have THREE BARS and full Wi-Fi yet it still won't sync. This app has me in tears because I may never get my important note back.\",\n",
              "       \"I can't update it in my phone it takes way too much memory.\", ..., 'Its fine',\n",
              "       \"PAC-MAN's power. Amazing!!!!,i shot the ghost with laser,BOOM!!!!.Deathly shooter,watch out the glicth you can die,i can die if the Gray Ghost   woke up from sleep.....!!!!,get the Energy Ball for kill the Gray  Ghost or use a power from PAC-MAN,dont use cheat ,if you use a cheat you SUCK.😈\",\n",
              "       'Best game ever', 'pacman good'], dtype=object)"
            ]
          },
          "metadata": {},
          "execution_count": 32
        }
      ]
    },
    {
      "cell_type": "code",
      "metadata": {
        "colab": {
          "base_uri": "https://localhost:8080/",
          "height": 435
        },
        "id": "gNSCC2moICTm",
        "outputId": "3674c454-98e9-4c3a-a6ba-41905a35f1b0"
      },
      "source": [
        "path = \".\"\n",
        "data_lm = (TextList\n",
        "           .from_df(pd.concat([train_df[[\"reviews\"]],test_df[[\"reviews\"]]],ignore_index=True,axis=0))\n",
        "           #Where are the text? Column 'text' of tweets.csv\n",
        "           .split_by_rand_pct(0.2)\n",
        "           #How to split it? Randomly with the default 20% in valid\n",
        "           .label_for_lm()\n",
        "           #Label it for a language model\n",
        "           .databunch(bs=48)\n",
        "          )\n",
        "           #Finally we convert to a DataBunch\n",
        "data_lm.show_batch()    "
      ],
      "execution_count": null,
      "outputs": [
        {
          "output_type": "display_data",
          "data": {
            "text/html": [
              ""
            ],
            "text/plain": [
              "<IPython.core.display.HTML object>"
            ]
          },
          "metadata": {}
        },
        {
          "output_type": "stream",
          "name": "stderr",
          "text": [
            "/usr/local/lib/python3.7/dist-packages/fastai/core.py:302: VisibleDeprecationWarning: Creating an ndarray from ragged nested sequences (which is a list-or-tuple of lists-or-tuples-or ndarrays with different lengths or shapes) is deprecated. If you meant to do this, you must specify 'dtype=object' when creating the ndarray\n",
            "  return np.array(a, dtype=dtype, **kwargs)\n"
          ]
        },
        {
          "output_type": "display_data",
          "data": {
            "text/html": [
              ""
            ],
            "text/plain": [
              "<IPython.core.display.HTML object>"
            ]
          },
          "metadata": {}
        },
        {
          "output_type": "display_data",
          "data": {
            "text/html": [
              "<table border=\"1\" class=\"dataframe\">\n",
              "  <thead>\n",
              "    <tr style=\"text-align: right;\">\n",
              "      <th>idx</th>\n",
              "      <th>text</th>\n",
              "    </tr>\n",
              "  </thead>\n",
              "  <tbody>\n",
              "    <tr>\n",
              "      <td>0</td>\n",
              "      <td>n't see how you could be disappointed with this perfect xxunk . xxmaj great looking and does the job xxunk had a problem signing in at first , but xxunk a few times and it worked - now i have no trouble xxunk in ) xxbos i ca n't update it in my phone it takes way too much xxunk . xxbos xxmaj love it . xxmaj between my xxup</td>\n",
              "    </tr>\n",
              "    <tr>\n",
              "      <td>1</td>\n",
              "      <td>xxunk take notes on my phone and they will appear on my ipad ! ! xxbos xxmaj xxunk xxbos xxmaj love the layout as well . xxmaj very user - friendly and looks clean ! xxbos xxmaj keep it coming . i would like the feature of xxunk xxunk xxunk xxunk within the tabs on the iphone . xxbos i especially like it is xxunk xxunk platform . i prefer</td>\n",
              "    </tr>\n",
              "    <tr>\n",
              "      <td>2</td>\n",
              "      <td>great with note s xxunk xxbos xxmaj use lots of xxunk data in background xxmaj it took about xxunk xxup xxunk cell phone data in 2 days before i found out . xxbos xxmaj xxunk language is not supported xxmaj the characters appear xxunk and in the right ( xxup xxunk ) xxunk xxmaj please xxmaj fix that ! xxbos xxunk nice xxbos i have n't used it much and</td>\n",
              "    </tr>\n",
              "    <tr>\n",
              "      <td>3</td>\n",
              "      <td>terrible . xxmaj this has been the best app until lately . xxbos xxmaj screen xxunk ? ? xxmaj too xxmaj much screen at top now being used ! ! xxmaj xxunk a lot xxbos xxmaj best app for twitter - xxmaj after trying several other twitter apps , xxmaj tweetcaster is xxunk the best for the xxunk system . xxbos xxmaj easy to use , xxunk recommend xxbos xxmaj</td>\n",
              "    </tr>\n",
              "    <tr>\n",
              "      <td>4</td>\n",
              "      <td>it also needs push notifications . xxmaj definitely xxunk back to the regular twitter app . xxbos xxmaj like it alot xxbos xxmaj after using xxmaj tweetcaster for a couple years i had an issue for several months where it xxunk xxunk to let me even log in to my xxmaj facebook , xxunk trying to post to it . i xxunk to xxmaj hootsuite and lost a couple features</td>\n",
              "    </tr>\n",
              "  </tbody>\n",
              "</table>"
            ],
            "text/plain": [
              "<IPython.core.display.HTML object>"
            ]
          },
          "metadata": {}
        }
      ]
    },
    {
      "cell_type": "code",
      "metadata": {
        "colab": {
          "base_uri": "https://localhost:8080/",
          "height": 850
        },
        "id": "UWMMMytZIJ6z",
        "outputId": "76116298-e8c0-469c-b06c-6f7c8a1cdc07"
      },
      "source": [
        "learn = language_model_learner(data_lm, AWD_LSTM, drop_mult=0.3)\n",
        "#find the optimal learning rate & visualize it\n",
        "learn.lr_find();\n",
        "learn.recorder.plot(suggestion= True);"
      ],
      "execution_count": null,
      "outputs": [
        {
          "output_type": "display_data",
          "data": {
            "text/html": [
              "\n",
              "    <div>\n",
              "        <style>\n",
              "            /* Turns off some styling */\n",
              "            progress {\n",
              "                /* gets rid of default border in Firefox and Opera. */\n",
              "                border: none;\n",
              "                /* Needs to be in here for Safari polyfill so background images work as expected. */\n",
              "                background-size: auto;\n",
              "            }\n",
              "            .progress-bar-interrupted, .progress-bar-interrupted::-webkit-progress-bar {\n",
              "                background: #F44336;\n",
              "            }\n",
              "        </style>\n",
              "      <progress value='14' class='' max='15' style='width:300px; height:20px; vertical-align: middle;'></progress>\n",
              "      93.33% [14/15 00:26<00:01]\n",
              "    </div>\n",
              "    \n",
              "<table border=\"1\" class=\"dataframe\">\n",
              "  <thead>\n",
              "    <tr style=\"text-align: left;\">\n",
              "      <th>epoch</th>\n",
              "      <th>train_loss</th>\n",
              "      <th>valid_loss</th>\n",
              "      <th>accuracy</th>\n",
              "      <th>time</th>\n",
              "    </tr>\n",
              "  </thead>\n",
              "  <tbody>\n",
              "    <tr>\n",
              "      <td>0</td>\n",
              "      <td>5.054051</td>\n",
              "      <td>#na#</td>\n",
              "      <td>00:02</td>\n",
              "    </tr>\n",
              "    <tr>\n",
              "      <td>1</td>\n",
              "      <td>5.041862</td>\n",
              "      <td>#na#</td>\n",
              "      <td>00:01</td>\n",
              "    </tr>\n",
              "    <tr>\n",
              "      <td>2</td>\n",
              "      <td>5.046614</td>\n",
              "      <td>#na#</td>\n",
              "      <td>00:01</td>\n",
              "    </tr>\n",
              "    <tr>\n",
              "      <td>3</td>\n",
              "      <td>5.041108</td>\n",
              "      <td>#na#</td>\n",
              "      <td>00:01</td>\n",
              "    </tr>\n",
              "    <tr>\n",
              "      <td>4</td>\n",
              "      <td>5.039944</td>\n",
              "      <td>#na#</td>\n",
              "      <td>00:01</td>\n",
              "    </tr>\n",
              "    <tr>\n",
              "      <td>5</td>\n",
              "      <td>5.035995</td>\n",
              "      <td>#na#</td>\n",
              "      <td>00:01</td>\n",
              "    </tr>\n",
              "    <tr>\n",
              "      <td>6</td>\n",
              "      <td>5.029191</td>\n",
              "      <td>#na#</td>\n",
              "      <td>00:01</td>\n",
              "    </tr>\n",
              "    <tr>\n",
              "      <td>7</td>\n",
              "      <td>4.996673</td>\n",
              "      <td>#na#</td>\n",
              "      <td>00:01</td>\n",
              "    </tr>\n",
              "    <tr>\n",
              "      <td>8</td>\n",
              "      <td>4.909660</td>\n",
              "      <td>#na#</td>\n",
              "      <td>00:01</td>\n",
              "    </tr>\n",
              "    <tr>\n",
              "      <td>9</td>\n",
              "      <td>4.744065</td>\n",
              "      <td>#na#</td>\n",
              "      <td>00:01</td>\n",
              "    </tr>\n",
              "    <tr>\n",
              "      <td>10</td>\n",
              "      <td>4.539133</td>\n",
              "      <td>#na#</td>\n",
              "      <td>00:01</td>\n",
              "    </tr>\n",
              "    <tr>\n",
              "      <td>11</td>\n",
              "      <td>4.355926</td>\n",
              "      <td>#na#</td>\n",
              "      <td>00:01</td>\n",
              "    </tr>\n",
              "    <tr>\n",
              "      <td>12</td>\n",
              "      <td>4.409055</td>\n",
              "      <td>#na#</td>\n",
              "      <td>00:01</td>\n",
              "    </tr>\n",
              "    <tr>\n",
              "      <td>13</td>\n",
              "      <td>7.040728</td>\n",
              "      <td>#na#</td>\n",
              "      <td>00:01</td>\n",
              "    </tr>\n",
              "  </tbody>\n",
              "</table><p>\n",
              "\n",
              "    <div>\n",
              "        <style>\n",
              "            /* Turns off some styling */\n",
              "            progress {\n",
              "                /* gets rid of default border in Firefox and Opera. */\n",
              "                border: none;\n",
              "                /* Needs to be in here for Safari polyfill so background images work as expected. */\n",
              "                background-size: auto;\n",
              "            }\n",
              "            .progress-bar-interrupted, .progress-bar-interrupted::-webkit-progress-bar {\n",
              "                background: #F44336;\n",
              "            }\n",
              "        </style>\n",
              "      <progress value='1' class='' max='7' style='width:300px; height:20px; vertical-align: middle;'></progress>\n",
              "      14.29% [1/7 00:00<00:01 7.9550]\n",
              "    </div>\n",
              "    "
            ],
            "text/plain": [
              "<IPython.core.display.HTML object>"
            ]
          },
          "metadata": {}
        },
        {
          "output_type": "stream",
          "name": "stdout",
          "text": [
            "LR Finder is complete, type {learner_name}.recorder.plot() to see the graph.\n",
            "Min numerical gradient: 1.45E-01\n",
            "Min loss divided by 10: 7.59E-02\n"
          ]
        },
        {
          "output_type": "display_data",
          "data": {
            "image/png": "[encoded data removed]",
            "text/plain": [
              "<Figure size 432x288 with 1 Axes>"
            ]
          },
          "metadata": {
            "needs_background": "light"
          }
        }
      ]
    },
    {
      "cell_type": "code",
      "metadata": {
        "colab": {
          "base_uri": "https://localhost:8080/",
          "height": 237
        },
        "id": "D1YMpP_nKT9w",
        "outputId": "7fe188dc-63ca-46ee-f57f-b2a6897c88fc"
      },
      "source": [
        "learn.fit_one_cycle(6,5e-2, moms=(0.85,0.75)) #5e-2\n"
      ],
      "execution_count": null,
      "outputs": [
        {
          "output_type": "display_data",
          "data": {
            "text/html": [
              "<table border=\"1\" class=\"dataframe\">\n",
              "  <thead>\n",
              "    <tr style=\"text-align: left;\">\n",
              "      <th>epoch</th>\n",
              "      <th>train_loss</th>\n",
              "      <th>valid_loss</th>\n",
              "      <th>accuracy</th>\n",
              "      <th>time</th>\n",
              "    </tr>\n",
              "  </thead>\n",
              "  <tbody>\n",
              "    <tr>\n",
              "      <td>0</td>\n",
              "      <td>4.772425</td>\n",
              "      <td>4.009198</td>\n",
              "      <td>0.220089</td>\n",
              "      <td>00:02</td>\n",
              "    </tr>\n",
              "    <tr>\n",
              "      <td>1</td>\n",
              "      <td>4.219273</td>\n",
              "      <td>3.607133</td>\n",
              "      <td>0.252530</td>\n",
              "      <td>00:02</td>\n",
              "    </tr>\n",
              "    <tr>\n",
              "      <td>2</td>\n",
              "      <td>3.822599</td>\n",
              "      <td>3.554509</td>\n",
              "      <td>0.249702</td>\n",
              "      <td>00:02</td>\n",
              "    </tr>\n",
              "    <tr>\n",
              "      <td>3</td>\n",
              "      <td>3.517434</td>\n",
              "      <td>3.551341</td>\n",
              "      <td>0.265774</td>\n",
              "      <td>00:02</td>\n",
              "    </tr>\n",
              "    <tr>\n",
              "      <td>4</td>\n",
              "      <td>3.273556</td>\n",
              "      <td>3.555188</td>\n",
              "      <td>0.259375</td>\n",
              "      <td>00:02</td>\n",
              "    </tr>\n",
              "    <tr>\n",
              "      <td>5</td>\n",
              "      <td>3.088929</td>\n",
              "      <td>3.552860</td>\n",
              "      <td>0.258185</td>\n",
              "      <td>00:02</td>\n",
              "    </tr>\n",
              "  </tbody>\n",
              "</table>"
            ],
            "text/plain": [
              "<IPython.core.display.HTML object>"
            ]
          },
          "metadata": {}
        }
      ]
    },
    {
      "cell_type": "code",
      "metadata": {
        "colab": {
          "base_uri": "https://localhost:8080/",
          "height": 363
        },
        "id": "Z8BOBMK9OtyG",
        "outputId": "796fd3ad-05da-4402-8963-9dd4ddac7208"
      },
      "source": [
        "learn.unfreeze()\n",
        "learn.fit_one_cycle(10, 1e-2, moms=(0.8,0.7))"
      ],
      "execution_count": null,
      "outputs": [
        {
          "output_type": "display_data",
          "data": {
            "text/html": [
              "<table border=\"1\" class=\"dataframe\">\n",
              "  <thead>\n",
              "    <tr style=\"text-align: left;\">\n",
              "      <th>epoch</th>\n",
              "      <th>train_loss</th>\n",
              "      <th>valid_loss</th>\n",
              "      <th>accuracy</th>\n",
              "      <th>time</th>\n",
              "    </tr>\n",
              "  </thead>\n",
              "  <tbody>\n",
              "    <tr>\n",
              "      <td>0</td>\n",
              "      <td>2.447859</td>\n",
              "      <td>3.648186</td>\n",
              "      <td>0.257887</td>\n",
              "      <td>00:02</td>\n",
              "    </tr>\n",
              "    <tr>\n",
              "      <td>1</td>\n",
              "      <td>2.324263</td>\n",
              "      <td>3.978938</td>\n",
              "      <td>0.235565</td>\n",
              "      <td>00:02</td>\n",
              "    </tr>\n",
              "    <tr>\n",
              "      <td>2</td>\n",
              "      <td>2.295341</td>\n",
              "      <td>4.045519</td>\n",
              "      <td>0.225149</td>\n",
              "      <td>00:02</td>\n",
              "    </tr>\n",
              "    <tr>\n",
              "      <td>3</td>\n",
              "      <td>2.092528</td>\n",
              "      <td>4.208786</td>\n",
              "      <td>0.232589</td>\n",
              "      <td>00:02</td>\n",
              "    </tr>\n",
              "    <tr>\n",
              "      <td>4</td>\n",
              "      <td>1.787229</td>\n",
              "      <td>4.432257</td>\n",
              "      <td>0.233036</td>\n",
              "      <td>00:02</td>\n",
              "    </tr>\n",
              "    <tr>\n",
              "      <td>5</td>\n",
              "      <td>1.508701</td>\n",
              "      <td>4.472188</td>\n",
              "      <td>0.234970</td>\n",
              "      <td>00:02</td>\n",
              "    </tr>\n",
              "    <tr>\n",
              "      <td>6</td>\n",
              "      <td>1.283718</td>\n",
              "      <td>4.427613</td>\n",
              "      <td>0.231696</td>\n",
              "      <td>00:02</td>\n",
              "    </tr>\n",
              "    <tr>\n",
              "      <td>7</td>\n",
              "      <td>1.110985</td>\n",
              "      <td>4.398905</td>\n",
              "      <td>0.230208</td>\n",
              "      <td>00:02</td>\n",
              "    </tr>\n",
              "    <tr>\n",
              "      <td>8</td>\n",
              "      <td>0.972324</td>\n",
              "      <td>4.373793</td>\n",
              "      <td>0.235565</td>\n",
              "      <td>00:02</td>\n",
              "    </tr>\n",
              "    <tr>\n",
              "      <td>9</td>\n",
              "      <td>0.864309</td>\n",
              "      <td>4.362955</td>\n",
              "      <td>0.237054</td>\n",
              "      <td>00:02</td>\n",
              "    </tr>\n",
              "  </tbody>\n",
              "</table>"
            ],
            "text/plain": [
              "<IPython.core.display.HTML object>"
            ]
          },
          "metadata": {}
        }
      ]
    },
    {
      "cell_type": "code",
      "metadata": {
        "colab": {
          "base_uri": "https://localhost:8080/"
        },
        "id": "DuekFOJiVZOi",
        "outputId": "63ca066e-15bf-448b-e12c-219e0d29b395"
      },
      "source": [
        "\n",
        "TEXT = \"I love this application because\"\n",
        "N_WORDS = 40\n",
        "N_SENTENCES = 2\n",
        "print(\"\\n\".join(learn.predict(TEXT, N_WORDS, temperature=0.75) for _ in range(N_SENTENCES)))\n",
        "#Save fine-tuned model for future use\n",
        "learn.save('fine-tuned')\n",
        "learn.save_encoder('fine_tuned_enc')"
      ],
      "execution_count": null,
      "outputs": [
        {
          "output_type": "stream",
          "name": "stdout",
          "text": [
            "I love this application because it 's much better than the original twitter app xxbos Great app . Love that i can scan several different functions and it crashes every time i try to send a tweet . xxbos i like it .\n",
            "I love this application because it 's good to talk to other friends i try it in one place together . It 's great ! xxbos Love it !!!! xxbosxxbosxxbosxxbos When you Follow several down Twitter accounts ,\n"
          ]
        }
      ]
    },
    {
      "cell_type": "code",
      "metadata": {
        "colab": {
          "base_uri": "https://localhost:8080/",
          "height": 472
        },
        "id": "P7walwKLVl28",
        "outputId": "4e9b2de0-c69d-444e-dfd7-f969c144633c"
      },
      "source": [
        "data_clas = (TextList.from_csv(\".\", 'P1-Golden.csv', cols='reviews',vocab=data_lm.vocab)\n",
        "             #Where are the text? Column 'text' of tweets.csv\n",
        "             .split_by_rand_pct(0.2)\n",
        "             #How to split it? Randomly with the default 20% in valid\n",
        "             .label_from_df(cols='Judgement')\n",
        "            #  .add_test(TextList.from_csv(\".\", 'P1_test.csv', cols='reviews',vocab=data_lm.vocab))\n",
        "             #specify the label column\n",
        "             .databunch(bs=64))\n",
        "             #Create databunch\n",
        "data_clas.show_batch()"
      ],
      "execution_count": null,
      "outputs": [
        {
          "output_type": "display_data",
          "data": {
            "text/html": [
              ""
            ],
            "text/plain": [
              "<IPython.core.display.HTML object>"
            ]
          },
          "metadata": {}
        },
        {
          "output_type": "stream",
          "name": "stderr",
          "text": [
            "/usr/local/lib/python3.7/dist-packages/fastai/core.py:302: VisibleDeprecationWarning: Creating an ndarray from ragged nested sequences (which is a list-or-tuple of lists-or-tuples-or ndarrays with different lengths or shapes) is deprecated. If you meant to do this, you must specify 'dtype=object' when creating the ndarray\n",
            "  return np.array(a, dtype=dtype, **kwargs)\n"
          ]
        },
        {
          "output_type": "display_data",
          "data": {
            "text/html": [
              ""
            ],
            "text/plain": [
              "<IPython.core.display.HTML object>"
            ]
          },
          "metadata": {}
        },
        {
          "output_type": "stream",
          "name": "stderr",
          "text": [
            "/usr/local/lib/python3.7/dist-packages/numpy/core/_asarray.py:83: VisibleDeprecationWarning: Creating an ndarray from ragged nested sequences (which is a list-or-tuple of lists-or-tuples-or ndarrays with different lengths or shapes) is deprecated. If you meant to do this, you must specify 'dtype=object' when creating the ndarray\n",
            "  return array(a, dtype, copy=False, order=order)\n",
            "<string>:6: VisibleDeprecationWarning: Creating an ndarray from ragged nested sequences (which is a list-or-tuple of lists-or-tuples-or ndarrays with different lengths or shapes) is deprecated. If you meant to do this, you must specify 'dtype=object' when creating the ndarray\n"
          ]
        },
        {
          "output_type": "display_data",
          "data": {
            "text/html": [
              "<table border=\"1\" class=\"dataframe\">\n",
              "  <thead>\n",
              "    <tr style=\"text-align: right;\">\n",
              "      <th>text</th>\n",
              "      <th>target</th>\n",
              "    </tr>\n",
              "  </thead>\n",
              "  <tbody>\n",
              "    <tr>\n",
              "      <td>xxbos i 've been xxunk for this app for a long time . i love the pc version of xxmaj onenote , but xxunk something more xxunk to a mobile device . xxmaj unfortunately , i have n't been xxunk back from xxmaj evernote . i have n't had the problems everyone is talking about , but xxunk , some xxunk features are missing . xxmaj while i really like</td>\n",
              "      <td>1</td>\n",
              "    </tr>\n",
              "    <tr>\n",
              "      <td>xxbos xxmaj this app was great for the first xxunk or two . xxmaj now xxunk i try to open one of my notes , it says , xxmaj xxunk xxmaj error . xxmaj xxunk saved to xxunk . i 've been trying to access this note for xxup xxunk xxup days now . i have tried xxunk xxunk , signing out , xxunk , going to xxmaj xxunk ,</td>\n",
              "      <td>1</td>\n",
              "    </tr>\n",
              "    <tr>\n",
              "      <td>xxbos i run xxup xxunk on my iphone using the one note app , and it is xxunk to the way i run my business . xxmaj in my xxunk , there is absolutely no xxunk . xxmaj it xxunk links to all of the notes i have on my laptop , it xxunk xxunk any xxunk notes i have , and it allows me to update or add any</td>\n",
              "      <td>1</td>\n",
              "    </tr>\n",
              "    <tr>\n",
              "      <td>xxbos xxmaj keeps getting better , new xxunk update works very well . xxmaj in over 30 years of using and writing software i have never xxunk as well thought out design and xxunk . xxmaj like all products there are small bugs and xxunk , especially on small xxunk , but the amazing technology far xxunk the xxunk . xxmaj not many realize the xxunk xxunk in the onenote</td>\n",
              "      <td>1</td>\n",
              "    </tr>\n",
              "    <tr>\n",
              "      <td>xxbos xxmaj ok i load it and they make me xxmaj follow them . xxmaj then it is xxunk to xxunk out how to xxunk them . xxmaj then i try to send a link of an xxunk . xxmaj my link is in there but the xxunk line is : xxmaj check out this link from xxunk inside the email only my link , no xxunk and more xxunk</td>\n",
              "      <td>1</td>\n",
              "    </tr>\n",
              "  </tbody>\n",
              "</table>"
            ],
            "text/plain": [
              "<IPython.core.display.HTML object>"
            ]
          },
          "metadata": {}
        }
      ]
    },
    {
      "cell_type": "code",
      "metadata": {
        "colab": {
          "base_uri": "https://localhost:8080/"
        },
        "id": "dNBguVwbYJwk",
        "outputId": "f91b2191-4413-4ce7-e912-b0138706a8f1"
      },
      "source": [
        "# config = awd_lstm_lm_config.copy()\n",
        "# config['n_hid'] = 1150\n",
        "\n",
        "# data_clas.vocab.itos = data_lm.vocab.itos\n",
        "learn = text_classifier_learner(data_clas, AWD_LSTM, drop_mult=0.5,metrics=[accuracy, FBeta(beta=1)])\n",
        "learn.load_encoder('fine_tuned_enc')"
      ],
      "execution_count": null,
      "outputs": [
        {
          "output_type": "execute_result",
          "data": {
            "text/plain": [
              "RNNLearner(data=TextClasDataBunch;\n",
              "\n",
              "Train: LabelList (719 items)\n",
              "x: TextList\n",
              "xxbos xxmaj well done xxmaj microsoft ! ! onenote is a fantastic program , perfect for day to day stuff and xxunk notes . xxmaj in fact , everything where a word xxunk is n't quite the xxunk xxunk xxunk xxunk tool . i 've been xxunk for an iphone app to use onenote xxunk , and this xxunk my xxunk you are a onenote user , i really ca n't see how you could be disappointed with this perfect xxunk . xxmaj great looking and does the job xxunk had a problem signing in at first , but xxunk a few times and it worked - now i have no trouble xxunk in ),xxbos xxmaj this works on a limited xxunk . xxmaj works well for xxunk of notes and is ok with xxunk of notes . xxmaj ability to xxunk notes would be great and xxunk xxunk would be xxunk . i would pay for an ipad app with more functionality but this works fine for free .,xxbos xxmaj this app was great for the first xxunk or two . xxmaj now xxunk i try to open one of my notes , it says , xxmaj xxunk xxmaj error . xxmaj xxunk saved to xxunk . i 've been trying to access this note for xxup xxunk xxup days now . i have tried xxunk xxunk , signing out , xxunk , going to xxmaj xxunk , and xxunk every thing i can to have my note show up ! xxmaj every time i click on it , like a few xxunk will show up and the xxunk is just xxunk and the note is all xxunk up . i am xxunk in xxup xxunk because that was an xxup important note and it is n't xxunk . xxmaj it 's so xxunk . i ca n't even copy the text on the note to place it xxunk else . i am so xxunk of this . i have xxup xxunk xxup xxunk and full xxmaj xxunk - xxmaj xxunk yet it still wo n't sync . xxmaj this app has me in xxunk because i may never get my important note back .,xxbos i run xxup xxunk on my iphone using the one note app , and it is xxunk to the way i run my business . xxmaj in my xxunk , there is absolutely no xxunk . xxmaj it xxunk links to all of the notes i have on my laptop , it xxunk xxunk any xxunk notes i have , and it allows me to update or add any xxunk information to any notes i already have on my phone . xxmaj this allows me to xxunk current to - xxunk come to xxunk in the xxunk , it also allows me to xxunk any to - do 's i have already xxunk in my xxmaj onenote set up at home . xxmaj it is xxunk the xxmaj xxunk xxmaj xxunk of xxunk using xxup xxunk in a mobile xxunk . xxmaj the app is xxunk , easy to use , and i have never had a problem with it xxunk up or xxunk any information over the last xxunk and a xxunk that i 've been using it . a clear and easy five star rating .,xxbos xxmaj love it . xxmaj between my xxup pc and my phone i 'm in sync , xxmaj that 's good for me . xxmaj if you use notes xxrep 5 . xxmaj this is the app . xxmaj it 's part of office now and is xxunk perfectly . i live by onenote . xxmaj one place for all xxunk , xxunk , personal or xxunk\n",
              "y: CategoryList\n",
              "1,1,1,1,0\n",
              "Path: .;\n",
              "\n",
              "Valid: LabelList (179 items)\n",
              "x: TextList\n",
              "xxbos xxmaj keep it coming . i would like the feature of xxunk xxunk xxunk xxunk within the tabs on the iphone .,xxbos xxmaj great app . i am able to talk and chat with people world xxunk on my xxmaj ipad,xxbos xxmaj awesome,xxbos xxmaj wonderful xxunk,xxbos xxmaj it is very awesome ! ! xxmaj thank you so much .\n",
              "y: CategoryList\n",
              "1,0,0,0,0\n",
              "Path: .;\n",
              "\n",
              "Test: None, model=SequentialRNN(\n",
              "  (0): MultiBatchEncoder(\n",
              "    (module): AWD_LSTM(\n",
              "      (encoder): Embedding(816, 400, padding_idx=1)\n",
              "      (encoder_dp): EmbeddingDropout(\n",
              "        (emb): Embedding(816, 400, padding_idx=1)\n",
              "      )\n",
              "      (rnns): ModuleList(\n",
              "        (0): WeightDropout(\n",
              "          (module): LSTM(400, 1152, batch_first=True)\n",
              "        )\n",
              "        (1): WeightDropout(\n",
              "          (module): LSTM(1152, 1152, batch_first=True)\n",
              "        )\n",
              "        (2): WeightDropout(\n",
              "          (module): LSTM(1152, 400, batch_first=True)\n",
              "        )\n",
              "      )\n",
              "      (input_dp): RNNDropout()\n",
              "      (hidden_dps): ModuleList(\n",
              "        (0): RNNDropout()\n",
              "        (1): RNNDropout()\n",
              "        (2): RNNDropout()\n",
              "      )\n",
              "    )\n",
              "  )\n",
              "  (1): PoolingLinearClassifier(\n",
              "    (layers): Sequential(\n",
              "      (0): BatchNorm1d(1200, eps=1e-05, momentum=0.1, affine=True, track_running_stats=True)\n",
              "      (1): Dropout(p=0.2, inplace=False)\n",
              "      (2): Linear(in_features=1200, out_features=50, bias=True)\n",
              "      (3): ReLU(inplace=True)\n",
              "      (4): BatchNorm1d(50, eps=1e-05, momentum=0.1, affine=True, track_running_stats=True)\n",
              "      (5): Dropout(p=0.1, inplace=False)\n",
              "      (6): Linear(in_features=50, out_features=2, bias=True)\n",
              "    )\n",
              "  )\n",
              "), opt_func=functools.partial(<class 'torch.optim.adam.Adam'>, betas=(0.9, 0.99)), loss_func=FlattenedLoss of CrossEntropyLoss(), metrics=[<function accuracy at 0x7fd084ca1b90>, FBeta(average='binary', pos_label=1, eps=1e-09, beta=1)], true_wd=True, bn_wd=True, wd=0.01, train_bn=True, path=PosixPath('.'), model_dir='models', callback_fns=[functools.partial(<class 'fastai.basic_train.Recorder'>, add_time=True, silent=False)], callbacks=[RNNTrainer\n",
              "learn: ...\n",
              "alpha: 2.0\n",
              "beta: 1.0], layer_groups=[Sequential(\n",
              "  (0): Embedding(816, 400, padding_idx=1)\n",
              "  (1): EmbeddingDropout(\n",
              "    (emb): Embedding(816, 400, padding_idx=1)\n",
              "  )\n",
              "), Sequential(\n",
              "  (0): WeightDropout(\n",
              "    (module): LSTM(400, 1152, batch_first=True)\n",
              "  )\n",
              "  (1): RNNDropout()\n",
              "), Sequential(\n",
              "  (0): WeightDropout(\n",
              "    (module): LSTM(1152, 1152, batch_first=True)\n",
              "  )\n",
              "  (1): RNNDropout()\n",
              "), Sequential(\n",
              "  (0): WeightDropout(\n",
              "    (module): LSTM(1152, 400, batch_first=True)\n",
              "  )\n",
              "  (1): RNNDropout()\n",
              "), Sequential(\n",
              "  (0): PoolingLinearClassifier(\n",
              "    (layers): Sequential(\n",
              "      (0): BatchNorm1d(1200, eps=1e-05, momentum=0.1, affine=True, track_running_stats=True)\n",
              "      (1): Dropout(p=0.2, inplace=False)\n",
              "      (2): Linear(in_features=1200, out_features=50, bias=True)\n",
              "      (3): ReLU(inplace=True)\n",
              "      (4): BatchNorm1d(50, eps=1e-05, momentum=0.1, affine=True, track_running_stats=True)\n",
              "      (5): Dropout(p=0.1, inplace=False)\n",
              "      (6): Linear(in_features=50, out_features=2, bias=True)\n",
              "    )\n",
              "  )\n",
              ")], add_time=True, silent=False)"
            ]
          },
          "metadata": {},
          "execution_count": 39
        }
      ]
    },
    {
      "cell_type": "code",
      "metadata": {
        "colab": {
          "base_uri": "https://localhost:8080/",
          "height": 1000
        },
        "id": "GQMWalR5YOSO",
        "outputId": "c958f1e0-7f8d-45a4-ce2d-120cfda58e0b"
      },
      "source": [
        "learn.lr_find()\n",
        "learn.recorder.plot(skip_end=15, suggestion=True)"
      ],
      "execution_count": null,
      "outputs": [
        {
          "output_type": "display_data",
          "data": {
            "text/html": [
              "\n",
              "    <div>\n",
              "        <style>\n",
              "            /* Turns off some styling */\n",
              "            progress {\n",
              "                /* gets rid of default border in Firefox and Opera. */\n",
              "                border: none;\n",
              "                /* Needs to be in here for Safari polyfill so background images work as expected. */\n",
              "                background-size: auto;\n",
              "            }\n",
              "            .progress-bar-interrupted, .progress-bar-interrupted::-webkit-progress-bar {\n",
              "                background: #F44336;\n",
              "            }\n",
              "        </style>\n",
              "      <progress value='8' class='' max='10' style='width:300px; height:20px; vertical-align: middle;'></progress>\n",
              "      80.00% [8/10 00:09<00:02]\n",
              "    </div>\n",
              "    \n",
              "<table border=\"1\" class=\"dataframe\">\n",
              "  <thead>\n",
              "    <tr style=\"text-align: left;\">\n",
              "      <th>epoch</th>\n",
              "      <th>train_loss</th>\n",
              "      <th>valid_loss</th>\n",
              "      <th>accuracy</th>\n",
              "      <th>f_beta</th>\n",
              "      <th>time</th>\n",
              "    </tr>\n",
              "  </thead>\n",
              "  <tbody>\n",
              "    <tr>\n",
              "      <td>0</td>\n",
              "      <td>0.743341</td>\n",
              "      <td>#na#</td>\n",
              "      <td>00:01</td>\n",
              "    </tr>\n",
              "    <tr>\n",
              "      <td>1</td>\n",
              "      <td>0.739677</td>\n",
              "      <td>#na#</td>\n",
              "      <td>00:01</td>\n",
              "    </tr>\n",
              "    <tr>\n",
              "      <td>2</td>\n",
              "      <td>0.736830</td>\n",
              "      <td>#na#</td>\n",
              "      <td>00:01</td>\n",
              "    </tr>\n",
              "    <tr>\n",
              "      <td>3</td>\n",
              "      <td>0.731434</td>\n",
              "      <td>#na#</td>\n",
              "      <td>00:01</td>\n",
              "    </tr>\n",
              "    <tr>\n",
              "      <td>4</td>\n",
              "      <td>0.711545</td>\n",
              "      <td>#na#</td>\n",
              "      <td>00:01</td>\n",
              "    </tr>\n",
              "    <tr>\n",
              "      <td>5</td>\n",
              "      <td>0.682035</td>\n",
              "      <td>#na#</td>\n",
              "      <td>00:01</td>\n",
              "    </tr>\n",
              "    <tr>\n",
              "      <td>6</td>\n",
              "      <td>0.676468</td>\n",
              "      <td>#na#</td>\n",
              "      <td>00:01</td>\n",
              "    </tr>\n",
              "    <tr>\n",
              "      <td>7</td>\n",
              "      <td>0.766074</td>\n",
              "      <td>#na#</td>\n",
              "      <td>00:01</td>\n",
              "    </tr>\n",
              "  </tbody>\n",
              "</table><p>\n",
              "\n",
              "    <div>\n",
              "        <style>\n",
              "            /* Turns off some styling */\n",
              "            progress {\n",
              "                /* gets rid of default border in Firefox and Opera. */\n",
              "                border: none;\n",
              "                /* Needs to be in here for Safari polyfill so background images work as expected. */\n",
              "                background-size: auto;\n",
              "            }\n",
              "            .progress-bar-interrupted, .progress-bar-interrupted::-webkit-progress-bar {\n",
              "                background: #F44336;\n",
              "            }\n",
              "        </style>\n",
              "      <progress value='5' class='' max='11' style='width:300px; height:20px; vertical-align: middle;'></progress>\n",
              "      45.45% [5/11 00:00<00:00 2.3613]\n",
              "    </div>\n",
              "    "
            ],
            "text/plain": [
              "<IPython.core.display.HTML object>"
            ]
          },
          "metadata": {}
        },
        {
          "output_type": "stream",
          "name": "stderr",
          "text": [
            "/usr/local/lib/python3.7/dist-packages/numpy/core/_asarray.py:83: VisibleDeprecationWarning: Creating an ndarray from ragged nested sequences (which is a list-or-tuple of lists-or-tuples-or ndarrays with different lengths or shapes) is deprecated. If you meant to do this, you must specify 'dtype=object' when creating the ndarray\n",
            "  return array(a, dtype, copy=False, order=order)\n",
            "<string>:6: VisibleDeprecationWarning: Creating an ndarray from ragged nested sequences (which is a list-or-tuple of lists-or-tuples-or ndarrays with different lengths or shapes) is deprecated. If you meant to do this, you must specify 'dtype=object' when creating the ndarray\n",
            "/usr/local/lib/python3.7/dist-packages/numpy/core/_asarray.py:83: VisibleDeprecationWarning: Creating an ndarray from ragged nested sequences (which is a list-or-tuple of lists-or-tuples-or ndarrays with different lengths or shapes) is deprecated. If you meant to do this, you must specify 'dtype=object' when creating the ndarray\n",
            "  return array(a, dtype, copy=False, order=order)\n",
            "<string>:6: VisibleDeprecationWarning: Creating an ndarray from ragged nested sequences (which is a list-or-tuple of lists-or-tuples-or ndarrays with different lengths or shapes) is deprecated. If you meant to do this, you must specify 'dtype=object' when creating the ndarray\n",
            "/usr/local/lib/python3.7/dist-packages/numpy/core/_asarray.py:83: VisibleDeprecationWarning: Creating an ndarray from ragged nested sequences (which is a list-or-tuple of lists-or-tuples-or ndarrays with different lengths or shapes) is deprecated. If you meant to do this, you must specify 'dtype=object' when creating the ndarray\n",
            "  return array(a, dtype, copy=False, order=order)\n",
            "<string>:6: VisibleDeprecationWarning: Creating an ndarray from ragged nested sequences (which is a list-or-tuple of lists-or-tuples-or ndarrays with different lengths or shapes) is deprecated. If you meant to do this, you must specify 'dtype=object' when creating the ndarray\n",
            "/usr/local/lib/python3.7/dist-packages/numpy/core/_asarray.py:83: VisibleDeprecationWarning: Creating an ndarray from ragged nested sequences (which is a list-or-tuple of lists-or-tuples-or ndarrays with different lengths or shapes) is deprecated. If you meant to do this, you must specify 'dtype=object' when creating the ndarray\n",
            "  return array(a, dtype, copy=False, order=order)\n",
            "<string>:6: VisibleDeprecationWarning: Creating an ndarray from ragged nested sequences (which is a list-or-tuple of lists-or-tuples-or ndarrays with different lengths or shapes) is deprecated. If you meant to do this, you must specify 'dtype=object' when creating the ndarray\n",
            "/usr/local/lib/python3.7/dist-packages/numpy/core/_asarray.py:83: VisibleDeprecationWarning: Creating an ndarray from ragged nested sequences (which is a list-or-tuple of lists-or-tuples-or ndarrays with different lengths or shapes) is deprecated. If you meant to do this, you must specify 'dtype=object' when creating the ndarray\n",
            "  return array(a, dtype, copy=False, order=order)\n",
            "<string>:6: VisibleDeprecationWarning: Creating an ndarray from ragged nested sequences (which is a list-or-tuple of lists-or-tuples-or ndarrays with different lengths or shapes) is deprecated. If you meant to do this, you must specify 'dtype=object' when creating the ndarray\n",
            "/usr/local/lib/python3.7/dist-packages/numpy/core/_asarray.py:83: VisibleDeprecationWarning: Creating an ndarray from ragged nested sequences (which is a list-or-tuple of lists-or-tuples-or ndarrays with different lengths or shapes) is deprecated. If you meant to do this, you must specify 'dtype=object' when creating the ndarray\n",
            "  return array(a, dtype, copy=False, order=order)\n",
            "<string>:6: VisibleDeprecationWarning: Creating an ndarray from ragged nested sequences (which is a list-or-tuple of lists-or-tuples-or ndarrays with different lengths or shapes) is deprecated. If you meant to do this, you must specify 'dtype=object' when creating the ndarray\n",
            "/usr/local/lib/python3.7/dist-packages/numpy/core/_asarray.py:83: VisibleDeprecationWarning: Creating an ndarray from ragged nested sequences (which is a list-or-tuple of lists-or-tuples-or ndarrays with different lengths or shapes) is deprecated. If you meant to do this, you must specify 'dtype=object' when creating the ndarray\n",
            "  return array(a, dtype, copy=False, order=order)\n",
            "<string>:6: VisibleDeprecationWarning: Creating an ndarray from ragged nested sequences (which is a list-or-tuple of lists-or-tuples-or ndarrays with different lengths or shapes) is deprecated. If you meant to do this, you must specify 'dtype=object' when creating the ndarray\n",
            "/usr/local/lib/python3.7/dist-packages/numpy/core/_asarray.py:83: VisibleDeprecationWarning: Creating an ndarray from ragged nested sequences (which is a list-or-tuple of lists-or-tuples-or ndarrays with different lengths or shapes) is deprecated. If you meant to do this, you must specify 'dtype=object' when creating the ndarray\n",
            "  return array(a, dtype, copy=False, order=order)\n",
            "<string>:6: VisibleDeprecationWarning: Creating an ndarray from ragged nested sequences (which is a list-or-tuple of lists-or-tuples-or ndarrays with different lengths or shapes) is deprecated. If you meant to do this, you must specify 'dtype=object' when creating the ndarray\n",
            "/usr/local/lib/python3.7/dist-packages/numpy/core/_asarray.py:83: VisibleDeprecationWarning: Creating an ndarray from ragged nested sequences (which is a list-or-tuple of lists-or-tuples-or ndarrays with different lengths or shapes) is deprecated. If you meant to do this, you must specify 'dtype=object' when creating the ndarray\n",
            "  return array(a, dtype, copy=False, order=order)\n",
            "<string>:6: VisibleDeprecationWarning: Creating an ndarray from ragged nested sequences (which is a list-or-tuple of lists-or-tuples-or ndarrays with different lengths or shapes) is deprecated. If you meant to do this, you must specify 'dtype=object' when creating the ndarray\n"
          ]
        },
        {
          "output_type": "stream",
          "name": "stdout",
          "text": [
            "LR Finder is complete, type {learner_name}.recorder.plot() to see the graph.\n",
            "Min numerical gradient: 3.98E-06\n",
            "Min loss divided by 10: 3.98E-03\n"
          ]
        },
        {
          "output_type": "display_data",
          "data": {
            "image/png": "[encoded data removed]",
            "text/plain": [
              "<Figure size 432x288 with 1 Axes>"
            ]
          },
          "metadata": {
            "needs_background": "light"
          }
        }
      ]
    },
    {
      "cell_type": "code",
      "metadata": {
        "colab": {
          "base_uri": "https://localhost:8080/",
          "height": 412
        },
        "id": "KIOfYokjZ__r",
        "outputId": "6fcaf993-fbe8-4ee4-ce01-34e4fc2af61b"
      },
      "source": [
        "learn.fit_one_cycle(4, 5e-2, moms=(0.8,0.7))"
      ],
      "execution_count": null,
      "outputs": [
        {
          "output_type": "display_data",
          "data": {
            "text/html": [
              "<table border=\"1\" class=\"dataframe\">\n",
              "  <thead>\n",
              "    <tr style=\"text-align: left;\">\n",
              "      <th>epoch</th>\n",
              "      <th>train_loss</th>\n",
              "      <th>valid_loss</th>\n",
              "      <th>accuracy</th>\n",
              "      <th>f_beta</th>\n",
              "      <th>time</th>\n",
              "    </tr>\n",
              "  </thead>\n",
              "  <tbody>\n",
              "    <tr>\n",
              "      <td>0</td>\n",
              "      <td>0.698992</td>\n",
              "      <td>0.487625</td>\n",
              "      <td>0.726257</td>\n",
              "      <td>0.760976</td>\n",
              "      <td>00:01</td>\n",
              "    </tr>\n",
              "    <tr>\n",
              "      <td>1</td>\n",
              "      <td>0.712602</td>\n",
              "      <td>0.519419</td>\n",
              "      <td>0.698324</td>\n",
              "      <td>0.550000</td>\n",
              "      <td>00:01</td>\n",
              "    </tr>\n",
              "    <tr>\n",
              "      <td>2</td>\n",
              "      <td>0.704847</td>\n",
              "      <td>0.543602</td>\n",
              "      <td>0.715084</td>\n",
              "      <td>0.592000</td>\n",
              "      <td>00:01</td>\n",
              "    </tr>\n",
              "    <tr>\n",
              "      <td>3</td>\n",
              "      <td>0.668125</td>\n",
              "      <td>0.494001</td>\n",
              "      <td>0.743017</td>\n",
              "      <td>0.656716</td>\n",
              "      <td>00:01</td>\n",
              "    </tr>\n",
              "  </tbody>\n",
              "</table>"
            ],
            "text/plain": [
              "<IPython.core.display.HTML object>"
            ]
          },
          "metadata": {}
        },
        {
          "output_type": "stream",
          "name": "stderr",
          "text": [
            "/usr/local/lib/python3.7/dist-packages/numpy/core/_asarray.py:83: VisibleDeprecationWarning: Creating an ndarray from ragged nested sequences (which is a list-or-tuple of lists-or-tuples-or ndarrays with different lengths or shapes) is deprecated. If you meant to do this, you must specify 'dtype=object' when creating the ndarray\n",
            "  return array(a, dtype, copy=False, order=order)\n",
            "<string>:6: VisibleDeprecationWarning: Creating an ndarray from ragged nested sequences (which is a list-or-tuple of lists-or-tuples-or ndarrays with different lengths or shapes) is deprecated. If you meant to do this, you must specify 'dtype=object' when creating the ndarray\n",
            "/usr/local/lib/python3.7/dist-packages/numpy/core/_asarray.py:83: VisibleDeprecationWarning: Creating an ndarray from ragged nested sequences (which is a list-or-tuple of lists-or-tuples-or ndarrays with different lengths or shapes) is deprecated. If you meant to do this, you must specify 'dtype=object' when creating the ndarray\n",
            "  return array(a, dtype, copy=False, order=order)\n",
            "<string>:6: VisibleDeprecationWarning: Creating an ndarray from ragged nested sequences (which is a list-or-tuple of lists-or-tuples-or ndarrays with different lengths or shapes) is deprecated. If you meant to do this, you must specify 'dtype=object' when creating the ndarray\n",
            "/usr/local/lib/python3.7/dist-packages/numpy/core/_asarray.py:83: VisibleDeprecationWarning: Creating an ndarray from ragged nested sequences (which is a list-or-tuple of lists-or-tuples-or ndarrays with different lengths or shapes) is deprecated. If you meant to do this, you must specify 'dtype=object' when creating the ndarray\n",
            "  return array(a, dtype, copy=False, order=order)\n",
            "<string>:6: VisibleDeprecationWarning: Creating an ndarray from ragged nested sequences (which is a list-or-tuple of lists-or-tuples-or ndarrays with different lengths or shapes) is deprecated. If you meant to do this, you must specify 'dtype=object' when creating the ndarray\n",
            "/usr/local/lib/python3.7/dist-packages/numpy/core/_asarray.py:83: VisibleDeprecationWarning: Creating an ndarray from ragged nested sequences (which is a list-or-tuple of lists-or-tuples-or ndarrays with different lengths or shapes) is deprecated. If you meant to do this, you must specify 'dtype=object' when creating the ndarray\n",
            "  return array(a, dtype, copy=False, order=order)\n",
            "<string>:6: VisibleDeprecationWarning: Creating an ndarray from ragged nested sequences (which is a list-or-tuple of lists-or-tuples-or ndarrays with different lengths or shapes) is deprecated. If you meant to do this, you must specify 'dtype=object' when creating the ndarray\n"
          ]
        }
      ]
    },
    {
      "cell_type": "code",
      "metadata": {
        "colab": {
          "base_uri": "https://localhost:8080/",
          "height": 412
        },
        "id": "vJaCluDDaRqw",
        "outputId": "c9448145-d2a6-47a2-916e-4d4654fe7b25"
      },
      "source": [
        "learn.freeze_to(-2)\n",
        "learn.fit_one_cycle(4, slice(1e-3/(2.6**4), 1e-3), moms=(0.8,0.7))"
      ],
      "execution_count": null,
      "outputs": [
        {
          "output_type": "display_data",
          "data": {
            "text/html": [
              "<table border=\"1\" class=\"dataframe\">\n",
              "  <thead>\n",
              "    <tr style=\"text-align: left;\">\n",
              "      <th>epoch</th>\n",
              "      <th>train_loss</th>\n",
              "      <th>valid_loss</th>\n",
              "      <th>accuracy</th>\n",
              "      <th>f_beta</th>\n",
              "      <th>time</th>\n",
              "    </tr>\n",
              "  </thead>\n",
              "  <tbody>\n",
              "    <tr>\n",
              "      <td>0</td>\n",
              "      <td>0.535417</td>\n",
              "      <td>0.448106</td>\n",
              "      <td>0.798883</td>\n",
              "      <td>0.756757</td>\n",
              "      <td>00:01</td>\n",
              "    </tr>\n",
              "    <tr>\n",
              "      <td>1</td>\n",
              "      <td>0.540598</td>\n",
              "      <td>0.423063</td>\n",
              "      <td>0.782123</td>\n",
              "      <td>0.745098</td>\n",
              "      <td>00:01</td>\n",
              "    </tr>\n",
              "    <tr>\n",
              "      <td>2</td>\n",
              "      <td>0.551942</td>\n",
              "      <td>0.429748</td>\n",
              "      <td>0.793296</td>\n",
              "      <td>0.748299</td>\n",
              "      <td>00:01</td>\n",
              "    </tr>\n",
              "    <tr>\n",
              "      <td>3</td>\n",
              "      <td>0.543889</td>\n",
              "      <td>0.422360</td>\n",
              "      <td>0.793296</td>\n",
              "      <td>0.758170</td>\n",
              "      <td>00:01</td>\n",
              "    </tr>\n",
              "  </tbody>\n",
              "</table>"
            ],
            "text/plain": [
              "<IPython.core.display.HTML object>"
            ]
          },
          "metadata": {}
        },
        {
          "output_type": "stream",
          "name": "stderr",
          "text": [
            "/usr/local/lib/python3.7/dist-packages/numpy/core/_asarray.py:83: VisibleDeprecationWarning: Creating an ndarray from ragged nested sequences (which is a list-or-tuple of lists-or-tuples-or ndarrays with different lengths or shapes) is deprecated. If you meant to do this, you must specify 'dtype=object' when creating the ndarray\n",
            "  return array(a, dtype, copy=False, order=order)\n",
            "<string>:6: VisibleDeprecationWarning: Creating an ndarray from ragged nested sequences (which is a list-or-tuple of lists-or-tuples-or ndarrays with different lengths or shapes) is deprecated. If you meant to do this, you must specify 'dtype=object' when creating the ndarray\n",
            "/usr/local/lib/python3.7/dist-packages/numpy/core/_asarray.py:83: VisibleDeprecationWarning: Creating an ndarray from ragged nested sequences (which is a list-or-tuple of lists-or-tuples-or ndarrays with different lengths or shapes) is deprecated. If you meant to do this, you must specify 'dtype=object' when creating the ndarray\n",
            "  return array(a, dtype, copy=False, order=order)\n",
            "<string>:6: VisibleDeprecationWarning: Creating an ndarray from ragged nested sequences (which is a list-or-tuple of lists-or-tuples-or ndarrays with different lengths or shapes) is deprecated. If you meant to do this, you must specify 'dtype=object' when creating the ndarray\n",
            "/usr/local/lib/python3.7/dist-packages/numpy/core/_asarray.py:83: VisibleDeprecationWarning: Creating an ndarray from ragged nested sequences (which is a list-or-tuple of lists-or-tuples-or ndarrays with different lengths or shapes) is deprecated. If you meant to do this, you must specify 'dtype=object' when creating the ndarray\n",
            "  return array(a, dtype, copy=False, order=order)\n",
            "<string>:6: VisibleDeprecationWarning: Creating an ndarray from ragged nested sequences (which is a list-or-tuple of lists-or-tuples-or ndarrays with different lengths or shapes) is deprecated. If you meant to do this, you must specify 'dtype=object' when creating the ndarray\n",
            "/usr/local/lib/python3.7/dist-packages/numpy/core/_asarray.py:83: VisibleDeprecationWarning: Creating an ndarray from ragged nested sequences (which is a list-or-tuple of lists-or-tuples-or ndarrays with different lengths or shapes) is deprecated. If you meant to do this, you must specify 'dtype=object' when creating the ndarray\n",
            "  return array(a, dtype, copy=False, order=order)\n",
            "<string>:6: VisibleDeprecationWarning: Creating an ndarray from ragged nested sequences (which is a list-or-tuple of lists-or-tuples-or ndarrays with different lengths or shapes) is deprecated. If you meant to do this, you must specify 'dtype=object' when creating the ndarray\n"
          ]
        }
      ]
    },
    {
      "cell_type": "code",
      "metadata": {
        "colab": {
          "base_uri": "https://localhost:8080/",
          "height": 412
        },
        "id": "O91Jxo6RaTN5",
        "outputId": "34b29a21-6def-4126-9130-5c84658409ca"
      },
      "source": [
        "learn.freeze_to(-3)\n",
        "learn.fit_one_cycle(4, slice(5e-3/(2.6**4),5e-3), moms=(0.8,0.7))"
      ],
      "execution_count": null,
      "outputs": [
        {
          "output_type": "display_data",
          "data": {
            "text/html": [
              "<table border=\"1\" class=\"dataframe\">\n",
              "  <thead>\n",
              "    <tr style=\"text-align: left;\">\n",
              "      <th>epoch</th>\n",
              "      <th>train_loss</th>\n",
              "      <th>valid_loss</th>\n",
              "      <th>accuracy</th>\n",
              "      <th>f_beta</th>\n",
              "      <th>time</th>\n",
              "    </tr>\n",
              "  </thead>\n",
              "  <tbody>\n",
              "    <tr>\n",
              "      <td>0</td>\n",
              "      <td>0.541765</td>\n",
              "      <td>0.428148</td>\n",
              "      <td>0.787709</td>\n",
              "      <td>0.756410</td>\n",
              "      <td>00:02</td>\n",
              "    </tr>\n",
              "    <tr>\n",
              "      <td>1</td>\n",
              "      <td>0.516718</td>\n",
              "      <td>0.410390</td>\n",
              "      <td>0.798883</td>\n",
              "      <td>0.766234</td>\n",
              "      <td>00:02</td>\n",
              "    </tr>\n",
              "    <tr>\n",
              "      <td>2</td>\n",
              "      <td>0.462261</td>\n",
              "      <td>0.419435</td>\n",
              "      <td>0.793296</td>\n",
              "      <td>0.744828</td>\n",
              "      <td>00:02</td>\n",
              "    </tr>\n",
              "    <tr>\n",
              "      <td>3</td>\n",
              "      <td>0.436947</td>\n",
              "      <td>0.400264</td>\n",
              "      <td>0.821229</td>\n",
              "      <td>0.789474</td>\n",
              "      <td>00:02</td>\n",
              "    </tr>\n",
              "  </tbody>\n",
              "</table>"
            ],
            "text/plain": [
              "<IPython.core.display.HTML object>"
            ]
          },
          "metadata": {}
        },
        {
          "output_type": "stream",
          "name": "stderr",
          "text": [
            "/usr/local/lib/python3.7/dist-packages/numpy/core/_asarray.py:83: VisibleDeprecationWarning: Creating an ndarray from ragged nested sequences (which is a list-or-tuple of lists-or-tuples-or ndarrays with different lengths or shapes) is deprecated. If you meant to do this, you must specify 'dtype=object' when creating the ndarray\n",
            "  return array(a, dtype, copy=False, order=order)\n",
            "<string>:6: VisibleDeprecationWarning: Creating an ndarray from ragged nested sequences (which is a list-or-tuple of lists-or-tuples-or ndarrays with different lengths or shapes) is deprecated. If you meant to do this, you must specify 'dtype=object' when creating the ndarray\n",
            "/usr/local/lib/python3.7/dist-packages/numpy/core/_asarray.py:83: VisibleDeprecationWarning: Creating an ndarray from ragged nested sequences (which is a list-or-tuple of lists-or-tuples-or ndarrays with different lengths or shapes) is deprecated. If you meant to do this, you must specify 'dtype=object' when creating the ndarray\n",
            "  return array(a, dtype, copy=False, order=order)\n",
            "<string>:6: VisibleDeprecationWarning: Creating an ndarray from ragged nested sequences (which is a list-or-tuple of lists-or-tuples-or ndarrays with different lengths or shapes) is deprecated. If you meant to do this, you must specify 'dtype=object' when creating the ndarray\n",
            "/usr/local/lib/python3.7/dist-packages/numpy/core/_asarray.py:83: VisibleDeprecationWarning: Creating an ndarray from ragged nested sequences (which is a list-or-tuple of lists-or-tuples-or ndarrays with different lengths or shapes) is deprecated. If you meant to do this, you must specify 'dtype=object' when creating the ndarray\n",
            "  return array(a, dtype, copy=False, order=order)\n",
            "<string>:6: VisibleDeprecationWarning: Creating an ndarray from ragged nested sequences (which is a list-or-tuple of lists-or-tuples-or ndarrays with different lengths or shapes) is deprecated. If you meant to do this, you must specify 'dtype=object' when creating the ndarray\n",
            "/usr/local/lib/python3.7/dist-packages/numpy/core/_asarray.py:83: VisibleDeprecationWarning: Creating an ndarray from ragged nested sequences (which is a list-or-tuple of lists-or-tuples-or ndarrays with different lengths or shapes) is deprecated. If you meant to do this, you must specify 'dtype=object' when creating the ndarray\n",
            "  return array(a, dtype, copy=False, order=order)\n",
            "<string>:6: VisibleDeprecationWarning: Creating an ndarray from ragged nested sequences (which is a list-or-tuple of lists-or-tuples-or ndarrays with different lengths or shapes) is deprecated. If you meant to do this, you must specify 'dtype=object' when creating the ndarray\n"
          ]
        }
      ]
    },
    {
      "cell_type": "code",
      "metadata": {
        "id": "fzws8nTxpODJ"
      },
      "source": [
        "# callbacks = SaveModelCallback(learn,monitor=\"accuracy\", mode=\"max\", name=\"best_classification_model\")"
      ],
      "execution_count": null,
      "outputs": []
    },
    {
      "cell_type": "code",
      "metadata": {
        "colab": {
          "base_uri": "https://localhost:8080/",
          "height": 1000
        },
        "id": "VQEOMOBYaVpD",
        "outputId": "7fca3da8-d7e0-4cd2-b6fd-1546eff371f9"
      },
      "source": [
        "learn.unfreeze()\n",
        "learn.lr_find()\n",
        "learn.recorder.plot(skip_end=15)"
      ],
      "execution_count": null,
      "outputs": [
        {
          "output_type": "display_data",
          "data": {
            "text/html": [
              "\n",
              "    <div>\n",
              "        <style>\n",
              "            /* Turns off some styling */\n",
              "            progress {\n",
              "                /* gets rid of default border in Firefox and Opera. */\n",
              "                border: none;\n",
              "                /* Needs to be in here for Safari polyfill so background images work as expected. */\n",
              "                background-size: auto;\n",
              "            }\n",
              "            .progress-bar-interrupted, .progress-bar-interrupted::-webkit-progress-bar {\n",
              "                background: #F44336;\n",
              "            }\n",
              "        </style>\n",
              "      <progress value='8' class='' max='10' style='width:300px; height:20px; vertical-align: middle;'></progress>\n",
              "      80.00% [8/10 00:23<00:05]\n",
              "    </div>\n",
              "    \n",
              "<table border=\"1\" class=\"dataframe\">\n",
              "  <thead>\n",
              "    <tr style=\"text-align: left;\">\n",
              "      <th>epoch</th>\n",
              "      <th>train_loss</th>\n",
              "      <th>valid_loss</th>\n",
              "      <th>accuracy</th>\n",
              "      <th>f_beta</th>\n",
              "      <th>time</th>\n",
              "    </tr>\n",
              "  </thead>\n",
              "  <tbody>\n",
              "    <tr>\n",
              "      <td>0</td>\n",
              "      <td>0.315131</td>\n",
              "      <td>#na#</td>\n",
              "      <td>00:03</td>\n",
              "    </tr>\n",
              "    <tr>\n",
              "      <td>1</td>\n",
              "      <td>0.371575</td>\n",
              "      <td>#na#</td>\n",
              "      <td>00:02</td>\n",
              "    </tr>\n",
              "    <tr>\n",
              "      <td>2</td>\n",
              "      <td>0.385060</td>\n",
              "      <td>#na#</td>\n",
              "      <td>00:02</td>\n",
              "    </tr>\n",
              "    <tr>\n",
              "      <td>3</td>\n",
              "      <td>0.384587</td>\n",
              "      <td>#na#</td>\n",
              "      <td>00:02</td>\n",
              "    </tr>\n",
              "    <tr>\n",
              "      <td>4</td>\n",
              "      <td>0.364633</td>\n",
              "      <td>#na#</td>\n",
              "      <td>00:03</td>\n",
              "    </tr>\n",
              "    <tr>\n",
              "      <td>5</td>\n",
              "      <td>0.356058</td>\n",
              "      <td>#na#</td>\n",
              "      <td>00:03</td>\n",
              "    </tr>\n",
              "    <tr>\n",
              "      <td>6</td>\n",
              "      <td>0.453296</td>\n",
              "      <td>#na#</td>\n",
              "      <td>00:02</td>\n",
              "    </tr>\n",
              "    <tr>\n",
              "      <td>7</td>\n",
              "      <td>0.614036</td>\n",
              "      <td>#na#</td>\n",
              "      <td>00:02</td>\n",
              "    </tr>\n",
              "  </tbody>\n",
              "</table><p>\n",
              "\n",
              "    <div>\n",
              "        <style>\n",
              "            /* Turns off some styling */\n",
              "            progress {\n",
              "                /* gets rid of default border in Firefox and Opera. */\n",
              "                border: none;\n",
              "                /* Needs to be in here for Safari polyfill so background images work as expected. */\n",
              "                background-size: auto;\n",
              "            }\n",
              "            .progress-bar-interrupted, .progress-bar-interrupted::-webkit-progress-bar {\n",
              "                background: #F44336;\n",
              "            }\n",
              "        </style>\n",
              "      <progress value='2' class='' max='11' style='width:300px; height:20px; vertical-align: middle;'></progress>\n",
              "      18.18% [2/11 00:01<00:06 0.7061]\n",
              "    </div>\n",
              "    "
            ],
            "text/plain": [
              "<IPython.core.display.HTML object>"
            ]
          },
          "metadata": {}
        },
        {
          "output_type": "stream",
          "name": "stderr",
          "text": [
            "/usr/local/lib/python3.7/dist-packages/numpy/core/_asarray.py:83: VisibleDeprecationWarning: Creating an ndarray from ragged nested sequences (which is a list-or-tuple of lists-or-tuples-or ndarrays with different lengths or shapes) is deprecated. If you meant to do this, you must specify 'dtype=object' when creating the ndarray\n",
            "  return array(a, dtype, copy=False, order=order)\n",
            "<string>:6: VisibleDeprecationWarning: Creating an ndarray from ragged nested sequences (which is a list-or-tuple of lists-or-tuples-or ndarrays with different lengths or shapes) is deprecated. If you meant to do this, you must specify 'dtype=object' when creating the ndarray\n",
            "/usr/local/lib/python3.7/dist-packages/numpy/core/_asarray.py:83: VisibleDeprecationWarning: Creating an ndarray from ragged nested sequences (which is a list-or-tuple of lists-or-tuples-or ndarrays with different lengths or shapes) is deprecated. If you meant to do this, you must specify 'dtype=object' when creating the ndarray\n",
            "  return array(a, dtype, copy=False, order=order)\n",
            "<string>:6: VisibleDeprecationWarning: Creating an ndarray from ragged nested sequences (which is a list-or-tuple of lists-or-tuples-or ndarrays with different lengths or shapes) is deprecated. If you meant to do this, you must specify 'dtype=object' when creating the ndarray\n",
            "/usr/local/lib/python3.7/dist-packages/numpy/core/_asarray.py:83: VisibleDeprecationWarning: Creating an ndarray from ragged nested sequences (which is a list-or-tuple of lists-or-tuples-or ndarrays with different lengths or shapes) is deprecated. If you meant to do this, you must specify 'dtype=object' when creating the ndarray\n",
            "  return array(a, dtype, copy=False, order=order)\n",
            "<string>:6: VisibleDeprecationWarning: Creating an ndarray from ragged nested sequences (which is a list-or-tuple of lists-or-tuples-or ndarrays with different lengths or shapes) is deprecated. If you meant to do this, you must specify 'dtype=object' when creating the ndarray\n",
            "/usr/local/lib/python3.7/dist-packages/numpy/core/_asarray.py:83: VisibleDeprecationWarning: Creating an ndarray from ragged nested sequences (which is a list-or-tuple of lists-or-tuples-or ndarrays with different lengths or shapes) is deprecated. If you meant to do this, you must specify 'dtype=object' when creating the ndarray\n",
            "  return array(a, dtype, copy=False, order=order)\n",
            "<string>:6: VisibleDeprecationWarning: Creating an ndarray from ragged nested sequences (which is a list-or-tuple of lists-or-tuples-or ndarrays with different lengths or shapes) is deprecated. If you meant to do this, you must specify 'dtype=object' when creating the ndarray\n",
            "/usr/local/lib/python3.7/dist-packages/numpy/core/_asarray.py:83: VisibleDeprecationWarning: Creating an ndarray from ragged nested sequences (which is a list-or-tuple of lists-or-tuples-or ndarrays with different lengths or shapes) is deprecated. If you meant to do this, you must specify 'dtype=object' when creating the ndarray\n",
            "  return array(a, dtype, copy=False, order=order)\n",
            "<string>:6: VisibleDeprecationWarning: Creating an ndarray from ragged nested sequences (which is a list-or-tuple of lists-or-tuples-or ndarrays with different lengths or shapes) is deprecated. If you meant to do this, you must specify 'dtype=object' when creating the ndarray\n",
            "/usr/local/lib/python3.7/dist-packages/numpy/core/_asarray.py:83: VisibleDeprecationWarning: Creating an ndarray from ragged nested sequences (which is a list-or-tuple of lists-or-tuples-or ndarrays with different lengths or shapes) is deprecated. If you meant to do this, you must specify 'dtype=object' when creating the ndarray\n",
            "  return array(a, dtype, copy=False, order=order)\n",
            "<string>:6: VisibleDeprecationWarning: Creating an ndarray from ragged nested sequences (which is a list-or-tuple of lists-or-tuples-or ndarrays with different lengths or shapes) is deprecated. If you meant to do this, you must specify 'dtype=object' when creating the ndarray\n",
            "/usr/local/lib/python3.7/dist-packages/numpy/core/_asarray.py:83: VisibleDeprecationWarning: Creating an ndarray from ragged nested sequences (which is a list-or-tuple of lists-or-tuples-or ndarrays with different lengths or shapes) is deprecated. If you meant to do this, you must specify 'dtype=object' when creating the ndarray\n",
            "  return array(a, dtype, copy=False, order=order)\n",
            "<string>:6: VisibleDeprecationWarning: Creating an ndarray from ragged nested sequences (which is a list-or-tuple of lists-or-tuples-or ndarrays with different lengths or shapes) is deprecated. If you meant to do this, you must specify 'dtype=object' when creating the ndarray\n",
            "/usr/local/lib/python3.7/dist-packages/numpy/core/_asarray.py:83: VisibleDeprecationWarning: Creating an ndarray from ragged nested sequences (which is a list-or-tuple of lists-or-tuples-or ndarrays with different lengths or shapes) is deprecated. If you meant to do this, you must specify 'dtype=object' when creating the ndarray\n",
            "  return array(a, dtype, copy=False, order=order)\n",
            "<string>:6: VisibleDeprecationWarning: Creating an ndarray from ragged nested sequences (which is a list-or-tuple of lists-or-tuples-or ndarrays with different lengths or shapes) is deprecated. If you meant to do this, you must specify 'dtype=object' when creating the ndarray\n",
            "/usr/local/lib/python3.7/dist-packages/numpy/core/_asarray.py:83: VisibleDeprecationWarning: Creating an ndarray from ragged nested sequences (which is a list-or-tuple of lists-or-tuples-or ndarrays with different lengths or shapes) is deprecated. If you meant to do this, you must specify 'dtype=object' when creating the ndarray\n",
            "  return array(a, dtype, copy=False, order=order)\n",
            "<string>:6: VisibleDeprecationWarning: Creating an ndarray from ragged nested sequences (which is a list-or-tuple of lists-or-tuples-or ndarrays with different lengths or shapes) is deprecated. If you meant to do this, you must specify 'dtype=object' when creating the ndarray\n"
          ]
        },
        {
          "output_type": "stream",
          "name": "stdout",
          "text": [
            "LR Finder is complete, type {learner_name}.recorder.plot() to see the graph.\n"
          ]
        },
        {
          "output_type": "display_data",
          "data": {
            "image/png": "[encoded data removed]",
            "text/plain": [
              "<Figure size 432x288 with 1 Axes>"
            ]
          },
          "metadata": {
            "needs_background": "light"
          }
        }
      ]
    },
    {
      "cell_type": "code",
      "metadata": {
        "colab": {
          "base_uri": "https://localhost:8080/",
          "height": 498
        },
        "id": "WolYHMk4aXKM",
        "outputId": "ea2b3a07-63b1-44b8-e316-590d9edb3413"
      },
      "source": [
        "learn.fit_one_cycle(5, slice(1e-3/(2.6**4),1e-3), moms=(0.8,0.7))\n",
        "learn.save('fwd_clas')"
      ],
      "execution_count": null,
      "outputs": [
        {
          "output_type": "display_data",
          "data": {
            "text/html": [
              "<table border=\"1\" class=\"dataframe\">\n",
              "  <thead>\n",
              "    <tr style=\"text-align: left;\">\n",
              "      <th>epoch</th>\n",
              "      <th>train_loss</th>\n",
              "      <th>valid_loss</th>\n",
              "      <th>accuracy</th>\n",
              "      <th>f_beta</th>\n",
              "      <th>time</th>\n",
              "    </tr>\n",
              "  </thead>\n",
              "  <tbody>\n",
              "    <tr>\n",
              "      <td>0</td>\n",
              "      <td>0.294855</td>\n",
              "      <td>0.397983</td>\n",
              "      <td>0.826816</td>\n",
              "      <td>0.800000</td>\n",
              "      <td>00:03</td>\n",
              "    </tr>\n",
              "    <tr>\n",
              "      <td>1</td>\n",
              "      <td>0.349865</td>\n",
              "      <td>0.419005</td>\n",
              "      <td>0.804469</td>\n",
              "      <td>0.761905</td>\n",
              "      <td>00:03</td>\n",
              "    </tr>\n",
              "    <tr>\n",
              "      <td>2</td>\n",
              "      <td>0.354894</td>\n",
              "      <td>0.419872</td>\n",
              "      <td>0.821229</td>\n",
              "      <td>0.792208</td>\n",
              "      <td>00:03</td>\n",
              "    </tr>\n",
              "    <tr>\n",
              "      <td>3</td>\n",
              "      <td>0.356669</td>\n",
              "      <td>0.418571</td>\n",
              "      <td>0.810056</td>\n",
              "      <td>0.784810</td>\n",
              "      <td>00:03</td>\n",
              "    </tr>\n",
              "    <tr>\n",
              "      <td>4</td>\n",
              "      <td>0.342497</td>\n",
              "      <td>0.418640</td>\n",
              "      <td>0.815642</td>\n",
              "      <td>0.792453</td>\n",
              "      <td>00:03</td>\n",
              "    </tr>\n",
              "  </tbody>\n",
              "</table>"
            ],
            "text/plain": [
              "<IPython.core.display.HTML object>"
            ]
          },
          "metadata": {}
        },
        {
          "output_type": "stream",
          "name": "stderr",
          "text": [
            "/usr/local/lib/python3.7/dist-packages/numpy/core/_asarray.py:83: VisibleDeprecationWarning: Creating an ndarray from ragged nested sequences (which is a list-or-tuple of lists-or-tuples-or ndarrays with different lengths or shapes) is deprecated. If you meant to do this, you must specify 'dtype=object' when creating the ndarray\n",
            "  return array(a, dtype, copy=False, order=order)\n",
            "<string>:6: VisibleDeprecationWarning: Creating an ndarray from ragged nested sequences (which is a list-or-tuple of lists-or-tuples-or ndarrays with different lengths or shapes) is deprecated. If you meant to do this, you must specify 'dtype=object' when creating the ndarray\n",
            "/usr/local/lib/python3.7/dist-packages/numpy/core/_asarray.py:83: VisibleDeprecationWarning: Creating an ndarray from ragged nested sequences (which is a list-or-tuple of lists-or-tuples-or ndarrays with different lengths or shapes) is deprecated. If you meant to do this, you must specify 'dtype=object' when creating the ndarray\n",
            "  return array(a, dtype, copy=False, order=order)\n",
            "<string>:6: VisibleDeprecationWarning: Creating an ndarray from ragged nested sequences (which is a list-or-tuple of lists-or-tuples-or ndarrays with different lengths or shapes) is deprecated. If you meant to do this, you must specify 'dtype=object' when creating the ndarray\n",
            "/usr/local/lib/python3.7/dist-packages/numpy/core/_asarray.py:83: VisibleDeprecationWarning: Creating an ndarray from ragged nested sequences (which is a list-or-tuple of lists-or-tuples-or ndarrays with different lengths or shapes) is deprecated. If you meant to do this, you must specify 'dtype=object' when creating the ndarray\n",
            "  return array(a, dtype, copy=False, order=order)\n",
            "<string>:6: VisibleDeprecationWarning: Creating an ndarray from ragged nested sequences (which is a list-or-tuple of lists-or-tuples-or ndarrays with different lengths or shapes) is deprecated. If you meant to do this, you must specify 'dtype=object' when creating the ndarray\n",
            "/usr/local/lib/python3.7/dist-packages/numpy/core/_asarray.py:83: VisibleDeprecationWarning: Creating an ndarray from ragged nested sequences (which is a list-or-tuple of lists-or-tuples-or ndarrays with different lengths or shapes) is deprecated. If you meant to do this, you must specify 'dtype=object' when creating the ndarray\n",
            "  return array(a, dtype, copy=False, order=order)\n",
            "<string>:6: VisibleDeprecationWarning: Creating an ndarray from ragged nested sequences (which is a list-or-tuple of lists-or-tuples-or ndarrays with different lengths or shapes) is deprecated. If you meant to do this, you must specify 'dtype=object' when creating the ndarray\n",
            "/usr/local/lib/python3.7/dist-packages/numpy/core/_asarray.py:83: VisibleDeprecationWarning: Creating an ndarray from ragged nested sequences (which is a list-or-tuple of lists-or-tuples-or ndarrays with different lengths or shapes) is deprecated. If you meant to do this, you must specify 'dtype=object' when creating the ndarray\n",
            "  return array(a, dtype, copy=False, order=order)\n",
            "<string>:6: VisibleDeprecationWarning: Creating an ndarray from ragged nested sequences (which is a list-or-tuple of lists-or-tuples-or ndarrays with different lengths or shapes) is deprecated. If you meant to do this, you must specify 'dtype=object' when creating the ndarray\n"
          ]
        }
      ]
    },
    {
      "cell_type": "code",
      "metadata": {
        "colab": {
          "base_uri": "https://localhost:8080/",
          "height": 35
        },
        "id": "7cwJDForab37",
        "outputId": "3fa4c546-578a-4acc-ccaf-fc429ff47e90"
      },
      "source": [
        "pred_fwd,lbl_fwd = learn.get_preds(ordered=True)\n",
        "accuracy(pred_fwd, lbl_fwd)"
      ],
      "execution_count": null,
      "outputs": [
        {
          "output_type": "display_data",
          "data": {
            "text/html": [
              ""
            ],
            "text/plain": [
              "<IPython.core.display.HTML object>"
            ]
          },
          "metadata": {}
        },
        {
          "output_type": "execute_result",
          "data": {
            "text/plain": [
              "tensor(0.8156)"
            ]
          },
          "metadata": {},
          "execution_count": 47
        }
      ]
    },
    {
      "cell_type": "code",
      "metadata": {
        "id": "_kmQg-PZBUua",
        "colab": {
          "base_uri": "https://localhost:8080/",
          "height": 234
        },
        "outputId": "bd46b614-81eb-4cc4-9fa6-79364cf11533"
      },
      "source": [
        "print('Loading existing model')\n",
        "learn = load_learner('.')\n",
        "preds = []\n",
        "for i in range(0,test_df.shape[0]):\n",
        "    p = learn.predict(test_df.reviews[i])\n",
        "    preds.append(int(p[0]))\n",
        "\n",
        "from sklearn.metrics import confusion_matrix\n",
        "from sklearn.metrics import classification_report\n",
        "\n",
        "print(classification_report(test_df.Judgement.values, preds))\n",
        "print(confusion_matrix(test_df.Judgement.values, preds))"
      ],
      "execution_count": null,
      "outputs": [
        {
          "output_type": "stream",
          "name": "stdout",
          "text": [
            "Loading existing model\n"
          ]
        },
        {
          "output_type": "display_data",
          "data": {
            "text/html": [
              ""
            ],
            "text/plain": [
              "<IPython.core.display.HTML object>"
            ]
          },
          "metadata": {}
        },
        {
          "output_type": "display_data",
          "data": {
            "text/html": [
              ""
            ],
            "text/plain": [
              "<IPython.core.display.HTML object>"
            ]
          },
          "metadata": {}
        },
        {
          "output_type": "stream",
          "name": "stdout",
          "text": [
            "              precision    recall  f1-score   support\n",
            "\n",
            "           0       0.83      0.84      0.83        51\n",
            "           1       0.84      0.82      0.83        51\n",
            "\n",
            "    accuracy                           0.83       102\n",
            "   macro avg       0.83      0.83      0.83       102\n",
            "weighted avg       0.83      0.83      0.83       102\n",
            "\n",
            "[[43  8]\n",
            " [ 9 42]]\n"
          ]
        }
      ]
    },
    {
      "cell_type": "code",
      "metadata": {
        "id": "JQGK6VSRk9rx"
      },
      "source": [
        "learn.export()"
      ],
      "execution_count": null,
      "outputs": []
    },
    {
      "cell_type": "code",
      "metadata": {
        "colab": {
          "base_uri": "https://localhost:8080/",
          "height": 17
        },
        "id": "ivR61vQE0qOV",
        "outputId": "cbe75b2c-a95a-4af9-f834-1ff70ead1015"
      },
      "source": [
        "learn = load_learner('.')\n"
      ],
      "execution_count": null,
      "outputs": [
        {
          "output_type": "display_data",
          "data": {
            "text/html": [
              ""
            ],
            "text/plain": [
              "<IPython.core.display.HTML object>"
            ]
          },
          "metadata": {}
        },
        {
          "output_type": "display_data",
          "data": {
            "text/html": [
              ""
            ],
            "text/plain": [
              "<IPython.core.display.HTML object>"
            ]
          },
          "metadata": {}
        }
      ]
    },
    {
      "cell_type": "code",
      "metadata": {
        "colab": {
          "base_uri": "https://localhost:8080/"
        },
        "id": "aD18Il8W0zFE",
        "outputId": "e558bde5-1c33-40fd-8911-3ee0b2b9077d"
      },
      "source": [
        "learn.predict(\"Love it. Between my PC and my phone I'm in sync, That's good for me. If you use notes..... This is the app. It's part of office now and is integrated perfectly. I live by OneNote. One place for all thoughts, ideas, personal or professional\")"
      ],
      "execution_count": null,
      "outputs": [
        {
          "output_type": "execute_result",
          "data": {
            "text/plain": [
              "(Category tensor(0), tensor(0), tensor([1.0000e+00, 2.0438e-07]))"
            ]
          },
          "metadata": {},
          "execution_count": 46
        }
      ]
    },
    {
      "cell_type": "code",
      "metadata": {
        "id": "HJjbHVfL09o1"
      },
      "source": [],
      "execution_count": null,
      "outputs": []
    },
    {
      "cell_type": "code",
      "metadata": {
        "colab": {
          "base_uri": "https://localhost:8080/"
        },
        "id": "2d8J3h1BaegD",
        "outputId": "3263958a-b014-4dd8-b30c-70010029fc56"
      },
      "source": [
        "learn.predict(\"Love it. Between my PC and my phone I'm in sync, That's good for me. If you use notes..... This is the app. It's part of office now and is integrated perfectly. I live by OneNote. One place for all thoughts, ideas, personal or professional\")"
      ],
      "execution_count": null,
      "outputs": [
        {
          "output_type": "execute_result",
          "data": {
            "text/plain": [
              "(Category tensor(0), tensor(0), tensor([1.0000e+00, 2.0438e-07]))"
            ]
          },
          "metadata": {},
          "execution_count": 47
        }
      ]
    },
    {
      "cell_type": "code",
      "metadata": {
        "colab": {
          "base_uri": "https://localhost:8080/"
        },
        "id": "5EgmbvHqaksw",
        "outputId": "6c21cd96-0ac0-4bdb-fee0-7f9816e1b4eb"
      },
      "source": [
        "learn.predict(\"Well done Microsoft!! OneNote is a fantastic program, perfect for day to day stuff and college notes. In fact, everything where a word processor isn't quite the write [sic] tool. I've been waiting for an iPhone app to use OneNote remotely, and this exceeds my expectations!!If you are a OneNote user, I really can't see how you could be disappointed with this perfect companion. Great looking and does the job perfectly!(I had a problem signing in at first, but resubmitted a few times and it worked - now I have no trouble logging in)\")"
      ],
      "execution_count": null,
      "outputs": [
        {
          "output_type": "execute_result",
          "data": {
            "text/plain": [
              "(Category tensor(1), tensor(1), tensor([0.0339, 0.9661]))"
            ]
          },
          "metadata": {},
          "execution_count": 48
        }
      ]
    },
    {
      "cell_type": "code",
      "metadata": {
        "colab": {
          "base_uri": "https://localhost:8080/",
          "height": 1000
        },
        "id": "Y3GenmEG0JiV",
        "outputId": "fda93efd-ea3e-4ccb-c6b8-d76b8074eae6"
      },
      "source": [
        "\n",
        "\n",
        "# !pip install fastai\n",
        "import pandas as pd\n",
        "import numpy as np\n",
        "import seaborn as sns\n",
        "import matplotlib as plt\n",
        "import itertools\n",
        "import nltk\n",
        "from nltk.corpus import stopwords\n",
        "# from wordcloud import WordCloud,STOPWORDS\n",
        "from fastai.text import *\n",
        "# from fastai.learner import load_learner\n",
        "import fastai\n",
        "# from fastai.callbacks import *\n",
        "\n",
        "def train_ulm(dat_lm):\n",
        "    learn = language_model_learner(data_lm, AWD_LSTM, drop_mult=0.3)\n",
        "    #find the optimal learning rate & visualize it\n",
        "    learn.lr_find()\n",
        "    learn.recorder.plot(suggestion= True)\n",
        "\n",
        "    learn.fit_one_cycle(6,5e-2, moms=(0.85,0.75)) #5e-2\n",
        "\n",
        "    learn.unfreeze()\n",
        "    learn.fit_one_cycle(10, 1e-2, moms=(0.8,0.7))\n",
        "\n",
        "    TEXT = \"I love this application because\"\n",
        "    N_WORDS = 40\n",
        "    N_SENTENCES = 2\n",
        "    print(\"\\n\".join(learn.predict(TEXT, N_WORDS, temperature=0.75) for _ in range(N_SENTENCES)))\n",
        "    #Save fine-tuned model for future use\n",
        "    learn.save('fine-tuned')\n",
        "    learn.save_encoder('fine_tuned_enc')\n",
        "\n",
        "    data_clas = (TextList.from_csv(\".\", 'P2-Golden.csv', cols='reviews',vocab=data_lm.vocab)\n",
        "                #Where are the text? Column 'text' of tweets.csv\n",
        "                .split_by_rand_pct(0.2)\n",
        "                #How to split it? Randomly with the default 20% in valid\n",
        "                .label_from_df(cols='Judgement')\n",
        "                #  .add_test(TextList.from_csv(\".\", 'P1_test.csv', cols='reviews',vocab=data_lm.vocab))\n",
        "                #specify the label column\n",
        "                .databunch(bs=64))\n",
        "                #Create databunch\n",
        "    data_clas.show_batch()\n",
        "\n",
        "    # Applying UlmFit Language model as a Text Classifier\n",
        "    learn = text_classifier_learner(data_clas, AWD_LSTM, drop_mult=0.5,metrics=[accuracy, FBeta(beta=1)])\n",
        "    learn.load_encoder('fine_tuned_enc')\n",
        "\n",
        "    learn.lr_find()\n",
        "    learn.recorder.plot(skip_end=15, suggestion=True)\n",
        "\n",
        "    learn.fit_one_cycle(4, 5e-2, moms=(0.8,0.7))\n",
        "\n",
        "    learn.freeze_to(-2)\n",
        "    learn.fit_one_cycle(4, slice(1e-3/(2.6**4), 1e-3), moms=(0.8,0.7))\n",
        "\n",
        "    learn.freeze_to(-3)\n",
        "    learn.fit_one_cycle(4, slice(5e-3/(2.6**4),5e-3), moms=(0.8,0.7))\n",
        "\n",
        "    learn.unfreeze()\n",
        "    learn.lr_find()\n",
        "    learn.recorder.plot(skip_end=15)\n",
        "\n",
        "    learn.fit_one_cycle(5, slice(1e-3/(2.6**4),1e-3), moms=(0.8,0.7))\n",
        "    #Final text classifier model \n",
        "    learn.save('fwd_clas')\n",
        "    #Exports the model by default as \"export.pkl\"\n",
        "    learn.export()\n",
        "\n",
        "if __name__ == '__main__':\n",
        "    DEMO = True\n",
        "\n",
        "    train_df = pd.read_csv(\"P2-Golden.csv\")\n",
        "    test_df = pd.read_csv(\"P2_test.csv\")\n",
        "\n",
        "    data_lm = (TextList\n",
        "           .from_df(pd.concat([train_df[[\"reviews\"]],test_df[[\"reviews\"]]],ignore_index=True,axis=0))\n",
        "           #Where are the text? Column 'text' of tweets.csv\n",
        "           .split_by_rand_pct(0.2)\n",
        "           #How to split it? Randomly with the default 20% in valid\n",
        "           .label_for_lm()\n",
        "           #Label it for a language model\n",
        "           .databunch(bs=48)\n",
        "          )\n",
        "    #Finally we convert to a DataBunch\n",
        "    data_lm.show_batch()\n",
        "    \n",
        "    if DEMO == False:\n",
        "        print(\"Training model\")\n",
        "        learn = train_ulm(data_lm)\n",
        "        pred_fwd,lbl_fwd = learn.get_preds(ordered=True)\n",
        "        accuracy(pred_fwd, lbl_fwd)\n",
        "    else:\n",
        "        print('Loading existing model')\n",
        "        learn = load_learner('.')\n",
        "        print(learn)\n",
        "        preds = []\n",
        "        for i in range(0,test_df.shape[0]):\n",
        "            p = learn.predict(test_df.reviews[i])\n",
        "            preds.append(int(p[0]))\n",
        "        \n",
        "        from sklearn.metrics import confusion_matrix\n",
        "        from sklearn.metrics import classification_report\n",
        "        # int_preds = []\n",
        "        # for i in preds:\n",
        "        #   int_preds.append(int(i))\n",
        "        print(classification_report(test_df.Judgement.values, preds))\n",
        "        print(confusion_matrix(test_df.Judgement.values, preds))\n",
        "        # accuracy(preds, test_df.Judgement.values)\n",
        "\n",
        "    print(\"Sample data predictions:\")\n",
        "    print(learn.predict(\"Now I bought an iPhone six running iOS 8.\"))\n",
        "    # [1.0000e+00, 2.0438e-07] - The first number is the probability of text having no requirement\n",
        "    #The second number is the probability of text having requirement. \n",
        "    #Therefore, the model predicts that the text does not have any requirement.\n",
        "\n",
        "    print(learn.predict(\"However, it won't let me sign on. it doesn't send me an access code.\"))\n",
        "    # [0.0339, 0.9661] - We can see that the model has predicted correctly that the requirement is present in this text"
      ],
      "execution_count": null,
      "outputs": [
        {
          "output_type": "display_data",
          "data": {
            "text/html": [
              ""
            ],
            "text/plain": [
              "<IPython.core.display.HTML object>"
            ]
          },
          "metadata": {}
        },
        {
          "output_type": "stream",
          "name": "stderr",
          "text": [
            "/usr/local/lib/python3.7/dist-packages/fastai/core.py:302: VisibleDeprecationWarning: Creating an ndarray from ragged nested sequences (which is a list-or-tuple of lists-or-tuples-or ndarrays with different lengths or shapes) is deprecated. If you meant to do this, you must specify 'dtype=object' when creating the ndarray\n",
            "  return np.array(a, dtype=dtype, **kwargs)\n"
          ]
        },
        {
          "output_type": "display_data",
          "data": {
            "text/html": [
              ""
            ],
            "text/plain": [
              "<IPython.core.display.HTML object>"
            ]
          },
          "metadata": {}
        },
        {
          "output_type": "display_data",
          "data": {
            "text/html": [
              "<table border=\"1\" class=\"dataframe\">\n",
              "  <thead>\n",
              "    <tr style=\"text-align: right;\">\n",
              "      <th>idx</th>\n",
              "      <th>text</th>\n",
              "    </tr>\n",
              "  </thead>\n",
              "  <tbody>\n",
              "    <tr>\n",
              "      <td>0</td>\n",
              "      <td>until i just updated the app and i ca n't xxunk to send any messages . xxbos xxmaj when i do try to send a message through chat , the app crashes . xxbos xxup xxunk . xxbos i 've xxunk my phone on and off several times thinking it could be the xxunk of something else but the app is still crashing during every message i 'm trying to</td>\n",
              "    </tr>\n",
              "    <tr>\n",
              "      <td>1</td>\n",
              "      <td>for long xxunk , since i have it i call my family through this application and works perfectly i have trouble with video call . xxbos xxmaj need xxmaj help ! ! xxbos i make a lot of calls from xxmaj xxunk to xxup xxunk . xxbos xxmaj if you 're on wifi and the other person is on at least 3 g , call quality is clear . xxbos</td>\n",
              "    </tr>\n",
              "    <tr>\n",
              "      <td>2</td>\n",
              "      <td>allow me to let only xxunk xxunk chat / call me and xxunk xxunk xxunk from sending messages to me ? xxbos xxmaj this is getting more and more important each day . xxbos xxmaj thank you . xxbos xxmaj hi , xxmaj the new update has problems . xxbos xxmaj when i open a xxunk to xxunk him , the xxunk is open but xxunk are all xxunk ,</td>\n",
              "    </tr>\n",
              "    <tr>\n",
              "      <td>3</td>\n",
              "      <td>load . xxbos xxmaj crashed before it would even open . xxbos xxmaj nothing . xxbos i was going to xxunk xxunk a xxunk but sometimes it wo n't open at all . xxbos i have iphone 4 . xxbos xxmaj does not work well with ios xxunk . xxbos xxmaj hope and update is xxunk soon . xxbos xxmaj excellent .. xxbos xxmaj best xxunk app for android .</td>\n",
              "    </tr>\n",
              "    <tr>\n",
              "      <td>4</td>\n",
              "      <td>xxmaj galaxy xxunk xxmaj keep on getting error \" xxmaj facebook connection xxunk \" xxmaj good app i 'm xxunk to connect to my skype account after xxunk from my previous version . xxbos xxmaj not good as i xxunk xxmaj my xxunk photo of the account does n't appear .. xxbos xxmaj thanks for all the xxunk and notification for the online xxunk does n't work xxup xxunk xxmaj</td>\n",
              "    </tr>\n",
              "  </tbody>\n",
              "</table>"
            ],
            "text/plain": [
              "<IPython.core.display.HTML object>"
            ]
          },
          "metadata": {}
        },
        {
          "output_type": "stream",
          "name": "stdout",
          "text": [
            "Loading existing model\n"
          ]
        },
        {
          "output_type": "display_data",
          "data": {
            "text/html": [
              ""
            ],
            "text/plain": [
              "<IPython.core.display.HTML object>"
            ]
          },
          "metadata": {}
        },
        {
          "output_type": "display_data",
          "data": {
            "text/html": [
              ""
            ],
            "text/plain": [
              "<IPython.core.display.HTML object>"
            ]
          },
          "metadata": {}
        },
        {
          "output_type": "stream",
          "name": "stdout",
          "text": [
            "RNNLearner(data=TextClasDataBunch;\n",
            "\n",
            "Train: LabelList (0 items)\n",
            "x: TextList\n",
            "\n",
            "y: CategoryList\n",
            "\n",
            "Path: .;\n",
            "\n",
            "Valid: LabelList (0 items)\n",
            "x: TextList\n",
            "\n",
            "y: CategoryList\n",
            "\n",
            "Path: .;\n",
            "\n",
            "Test: None, model=SequentialRNN(\n",
            "  (0): MultiBatchEncoder(\n",
            "    (module): AWD_LSTM(\n",
            "      (encoder): Embedding(680, 400, padding_idx=1)\n",
            "      (encoder_dp): EmbeddingDropout(\n",
            "        (emb): Embedding(680, 400, padding_idx=1)\n",
            "      )\n",
            "      (rnns): ModuleList(\n",
            "        (0): WeightDropout(\n",
            "          (module): LSTM(400, 1152, batch_first=True)\n",
            "        )\n",
            "        (1): WeightDropout(\n",
            "          (module): LSTM(1152, 1152, batch_first=True)\n",
            "        )\n",
            "        (2): WeightDropout(\n",
            "          (module): LSTM(1152, 400, batch_first=True)\n",
            "        )\n",
            "      )\n",
            "      (input_dp): RNNDropout()\n",
            "      (hidden_dps): ModuleList(\n",
            "        (0): RNNDropout()\n",
            "        (1): RNNDropout()\n",
            "        (2): RNNDropout()\n",
            "      )\n",
            "    )\n",
            "  )\n",
            "  (1): PoolingLinearClassifier(\n",
            "    (layers): Sequential(\n",
            "      (0): BatchNorm1d(1200, eps=1e-05, momentum=0.1, affine=True, track_running_stats=True)\n",
            "      (1): Dropout(p=0.2, inplace=False)\n",
            "      (2): Linear(in_features=1200, out_features=50, bias=True)\n",
            "      (3): ReLU(inplace=True)\n",
            "      (4): BatchNorm1d(50, eps=1e-05, momentum=0.1, affine=True, track_running_stats=True)\n",
            "      (5): Dropout(p=0.1, inplace=False)\n",
            "      (6): Linear(in_features=50, out_features=2, bias=True)\n",
            "    )\n",
            "  )\n",
            "), opt_func=functools.partial(<class 'torch.optim.adam.Adam'>, betas=(0.9, 0.99)), loss_func=FlattenedLoss of CrossEntropyLoss(), metrics=[<function accuracy at 0x7fd084ca1b90>, FBeta(average='binary', pos_label=1, eps=1e-09, beta=1)], true_wd=True, bn_wd=True, wd=0.01, train_bn=True, path=PosixPath('.'), model_dir='models', callback_fns=[functools.partial(<class 'fastai.basic_train.Recorder'>, add_time=True, silent=False)], callbacks=[RNNTrainer\n",
            "learn: ...\n",
            "alpha: 2.0\n",
            "beta: 1.0], layer_groups=[Sequential(\n",
            "  (0): Embedding(680, 400, padding_idx=1)\n",
            "  (1): Embedding(680, 400, padding_idx=1)\n",
            "  (2): LSTM(400, 1152, batch_first=True)\n",
            "  (3): LSTM(1152, 1152, batch_first=True)\n",
            "  (4): LSTM(1152, 400, batch_first=True)\n",
            "  (5): RNNDropout()\n",
            "  (6): RNNDropout()\n",
            "  (7): RNNDropout()\n",
            "  (8): RNNDropout()\n",
            "  (9): BatchNorm1d(1200, eps=1e-05, momentum=0.1, affine=True, track_running_stats=True)\n",
            "  (10): Dropout(p=0.2, inplace=False)\n",
            "  (11): Linear(in_features=1200, out_features=50, bias=True)\n",
            "  (12): ReLU(inplace=True)\n",
            "  (13): BatchNorm1d(50, eps=1e-05, momentum=0.1, affine=True, track_running_stats=True)\n",
            "  (14): Dropout(p=0.1, inplace=False)\n",
            "  (15): Linear(in_features=50, out_features=2, bias=True)\n",
            ")], add_time=True, silent=False)\n",
            "              precision    recall  f1-score   support\n",
            "\n",
            "           0       0.80      0.78      0.79        89\n",
            "           1       0.78      0.80      0.79        86\n",
            "\n",
            "    accuracy                           0.79       175\n",
            "   macro avg       0.79      0.79      0.79       175\n",
            "weighted avg       0.79      0.79      0.79       175\n",
            "\n",
            "[[69 20]\n",
            " [17 69]]\n",
            "Sample data predictions:\n",
            "(Category tensor(0), tensor(0), tensor([0.9434, 0.0566]))\n",
            "(Category tensor(1), tensor(1), tensor([0.0475, 0.9525]))\n"
          ]
        }
      ]
    },
    {
      "cell_type": "code",
      "metadata": {
        "id": "5ZkzKGVe0L5v"
      },
      "source": [
        "# train_df = pd.read_csv(\"P2-Golden.csv\")\n",
        "test_df = pd.read_csv(\"P2_test.csv\")"
      ],
      "execution_count": null,
      "outputs": []
    },
    {
      "cell_type": "code",
      "metadata": {
        "colab": {
          "base_uri": "https://localhost:8080/"
        },
        "id": "o16TV-Y3ka2m",
        "outputId": "36a87ac9-61f0-4123-c7ad-3fb6f218d8e2"
      },
      "source": [
        "test_df.shape[0]"
      ],
      "execution_count": null,
      "outputs": [
        {
          "output_type": "execute_result",
          "data": {
            "text/plain": [
              "175"
            ]
          },
          "metadata": {},
          "execution_count": 4
        }
      ]
    },
    {
      "cell_type": "code",
      "metadata": {
        "colab": {
          "base_uri": "https://localhost:8080/",
          "height": 35
        },
        "id": "Nth_Gzz1kcSr",
        "outputId": "d26185b2-ddd4-487c-d08d-c40d85311111"
      },
      "source": [
        "test_df.reviews[0]"
      ],
      "execution_count": null,
      "outputs": [
        {
          "output_type": "execute_result",
          "data": {
            "application/vnd.google.colaboratory.intrinsic+json": {
              "type": "string"
            },
            "text/plain": [
              "'Other then that, this app is fantastic.'"
            ]
          },
          "metadata": {},
          "execution_count": 6
        }
      ]
    },
    {
      "cell_type": "code",
      "metadata": {
        "colab": {
          "base_uri": "https://localhost:8080/"
        },
        "id": "G7_fT8TPlb_O",
        "outputId": "c3ac1938-58e6-4e10-b383-f71563cbabf5"
      },
      "source": [
        "preds"
      ],
      "execution_count": null,
      "outputs": [
        {
          "output_type": "execute_result",
          "data": {
            "text/plain": [
              "[Category tensor(0),\n",
              " Category tensor(1),\n",
              " Category tensor(0),\n",
              " Category tensor(1),\n",
              " Category tensor(1),\n",
              " Category tensor(1),\n",
              " Category tensor(1),\n",
              " Category tensor(0),\n",
              " Category tensor(1),\n",
              " Category tensor(1),\n",
              " Category tensor(1),\n",
              " Category tensor(0),\n",
              " Category tensor(0),\n",
              " Category tensor(1),\n",
              " Category tensor(0),\n",
              " Category tensor(0),\n",
              " Category tensor(1),\n",
              " Category tensor(1),\n",
              " Category tensor(1),\n",
              " Category tensor(0),\n",
              " Category tensor(0),\n",
              " Category tensor(1),\n",
              " Category tensor(1),\n",
              " Category tensor(1),\n",
              " Category tensor(1),\n",
              " Category tensor(0),\n",
              " Category tensor(1),\n",
              " Category tensor(0),\n",
              " Category tensor(0),\n",
              " Category tensor(0),\n",
              " Category tensor(1),\n",
              " Category tensor(0),\n",
              " Category tensor(0),\n",
              " Category tensor(0),\n",
              " Category tensor(1),\n",
              " Category tensor(0),\n",
              " Category tensor(1),\n",
              " Category tensor(1),\n",
              " Category tensor(1),\n",
              " Category tensor(0),\n",
              " Category tensor(1),\n",
              " Category tensor(1),\n",
              " Category tensor(1),\n",
              " Category tensor(0),\n",
              " Category tensor(0),\n",
              " Category tensor(0),\n",
              " Category tensor(1),\n",
              " Category tensor(0),\n",
              " Category tensor(1),\n",
              " Category tensor(0),\n",
              " Category tensor(0),\n",
              " Category tensor(0),\n",
              " Category tensor(1),\n",
              " Category tensor(1),\n",
              " Category tensor(0),\n",
              " Category tensor(0),\n",
              " Category tensor(0),\n",
              " Category tensor(0),\n",
              " Category tensor(1),\n",
              " Category tensor(0),\n",
              " Category tensor(0),\n",
              " Category tensor(1),\n",
              " Category tensor(1),\n",
              " Category tensor(1),\n",
              " Category tensor(1),\n",
              " Category tensor(0),\n",
              " Category tensor(0),\n",
              " Category tensor(1),\n",
              " Category tensor(1),\n",
              " Category tensor(1),\n",
              " Category tensor(0),\n",
              " Category tensor(0),\n",
              " Category tensor(1),\n",
              " Category tensor(0),\n",
              " Category tensor(1),\n",
              " Category tensor(0),\n",
              " Category tensor(0),\n",
              " Category tensor(0),\n",
              " Category tensor(1),\n",
              " Category tensor(0),\n",
              " Category tensor(1),\n",
              " Category tensor(1),\n",
              " Category tensor(1),\n",
              " Category tensor(0),\n",
              " Category tensor(0),\n",
              " Category tensor(1),\n",
              " Category tensor(0),\n",
              " Category tensor(1),\n",
              " Category tensor(0),\n",
              " Category tensor(1),\n",
              " Category tensor(1),\n",
              " Category tensor(0),\n",
              " Category tensor(0),\n",
              " Category tensor(1),\n",
              " Category tensor(1),\n",
              " Category tensor(0),\n",
              " Category tensor(0),\n",
              " Category tensor(1),\n",
              " Category tensor(0),\n",
              " Category tensor(1),\n",
              " Category tensor(0),\n",
              " Category tensor(1),\n",
              " Category tensor(1),\n",
              " Category tensor(1),\n",
              " Category tensor(1),\n",
              " Category tensor(0),\n",
              " Category tensor(0),\n",
              " Category tensor(0),\n",
              " Category tensor(1),\n",
              " Category tensor(0),\n",
              " Category tensor(0),\n",
              " Category tensor(0),\n",
              " Category tensor(1),\n",
              " Category tensor(1),\n",
              " Category tensor(1),\n",
              " Category tensor(0),\n",
              " Category tensor(1),\n",
              " Category tensor(1),\n",
              " Category tensor(0),\n",
              " Category tensor(1),\n",
              " Category tensor(1),\n",
              " Category tensor(1),\n",
              " Category tensor(0),\n",
              " Category tensor(0),\n",
              " Category tensor(0),\n",
              " Category tensor(1),\n",
              " Category tensor(1),\n",
              " Category tensor(1),\n",
              " Category tensor(0),\n",
              " Category tensor(0),\n",
              " Category tensor(0),\n",
              " Category tensor(1),\n",
              " Category tensor(1),\n",
              " Category tensor(0),\n",
              " Category tensor(0),\n",
              " Category tensor(1),\n",
              " Category tensor(0),\n",
              " Category tensor(0),\n",
              " Category tensor(1),\n",
              " Category tensor(0),\n",
              " Category tensor(0),\n",
              " Category tensor(1),\n",
              " Category tensor(0),\n",
              " Category tensor(1),\n",
              " Category tensor(0),\n",
              " Category tensor(1),\n",
              " Category tensor(1),\n",
              " Category tensor(1),\n",
              " Category tensor(0),\n",
              " Category tensor(0),\n",
              " Category tensor(1),\n",
              " Category tensor(1),\n",
              " Category tensor(1),\n",
              " Category tensor(0),\n",
              " Category tensor(1),\n",
              " Category tensor(1),\n",
              " Category tensor(1),\n",
              " Category tensor(0),\n",
              " Category tensor(0),\n",
              " Category tensor(1),\n",
              " Category tensor(0),\n",
              " Category tensor(1),\n",
              " Category tensor(0),\n",
              " Category tensor(1),\n",
              " Category tensor(1),\n",
              " Category tensor(0),\n",
              " Category tensor(0),\n",
              " Category tensor(1),\n",
              " Category tensor(0),\n",
              " Category tensor(1),\n",
              " Category tensor(0),\n",
              " Category tensor(0),\n",
              " Category tensor(0),\n",
              " Category tensor(1),\n",
              " Category tensor(0)]"
            ]
          },
          "metadata": {},
          "execution_count": 19
        }
      ]
    },
    {
      "cell_type": "code",
      "metadata": {
        "id": "Z2gJOJDKmMJQ"
      },
      "source": [],
      "execution_count": null,
      "outputs": []
    }
  ]
}